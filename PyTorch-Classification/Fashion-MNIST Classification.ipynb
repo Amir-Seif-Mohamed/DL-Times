{
  "nbformat": 4,
  "nbformat_minor": 0,
  "metadata": {
    "colab": {
      "name": "Fashion-MNIST Classification.ipynb",
      "version": "0.3.2",
      "provenance": []
    },
    "kernelspec": {
      "display_name": "Python 3",
      "language": "python",
      "name": "python3"
    },
    "accelerator": "GPU"
  },
  "cells": [
    {
      "metadata": {
        "id": "t73D55BwFKO8",
        "colab_type": "text"
      },
      "cell_type": "markdown",
      "source": [
        "**Importing Requisites**"
      ]
    },
    {
      "metadata": {
        "id": "hY01Z8ZfP-Wy",
        "colab_type": "code",
        "colab": {
          "base_uri": "https://localhost:8080/",
          "height": 17
        },
        "outputId": "7ac04e84-9572-4ea3-fff6-29428ca12d5f"
      },
      "cell_type": "code",
      "source": [
        "from os import path\n",
        "from wheel.pep425tags import get_abbr_impl, get_impl_ver, get_abi_tag\n",
        "\n",
        "platform = '{}{}-{}'.format(get_abbr_impl(), get_impl_ver(), get_abi_tag())\n",
        "\n",
        "accelerator = 'cu80' if path.exists('/opt/bin/nvidia-smi') else 'cpu'\n",
        "\n",
        "!pip install -q http://download.pytorch.org/whl/{accelerator}/torch-0.4.0-{platform}-linux_x86_64.whl torchvision"
      ],
      "execution_count": 1,
      "outputs": []
    },
    {
      "metadata": {
        "id": "woMCP4fJFKO_",
        "colab_type": "code",
        "colab": {
          "base_uri": "https://localhost:8080/",
          "height": 17
        },
        "outputId": "19617fec-6243-48de-c7db-ea076a9f1bd5"
      },
      "cell_type": "code",
      "source": [
        "import torch\n",
        "import torch.nn as nn\n",
        "import torchvision\n",
        "import torchvision.transforms as transforms\n",
        "from torch.autograd import Variable\n",
        "import torch.nn.functional as F\n",
        "\n",
        "import matplotlib.pyplot as plt\n",
        "import numpy as np\n",
        "\n",
        "import sys\n",
        "import warnings\n",
        "\n",
        "if not sys.warnoptions:\n",
        "    warnings.simplefilter(\"ignore\")"
      ],
      "execution_count": 2,
      "outputs": []
    },
    {
      "metadata": {
        "id": "KNq07pbdFKPF",
        "colab_type": "text"
      },
      "cell_type": "markdown",
      "source": [
        "``**LOADING DATA**``"
      ]
    },
    {
      "metadata": {
        "id": "t_zoktTtFKPH",
        "colab_type": "text"
      },
      "cell_type": "markdown",
      "source": [
        "Normalize a tensor image with mean and standard deviation.\n",
        "Given mean: ``(M1,...,Mn)`` and std: ``(S1,..,Sn)`` for ``n`` channels, this transform\n",
        "will normalize each channel of the input ``torch.*Tensor`` i.e.\n",
        "``input[channel] = (input[channel] - mean[channel]) / std[channel]``"
      ]
    },
    {
      "metadata": {
        "id": "_PGNBCVBFKPI",
        "colab_type": "code",
        "colab": {
          "base_uri": "https://localhost:8080/",
          "height": 17
        },
        "outputId": "da88bd64-f583-4c09-a6e5-c7e6ec693617"
      },
      "cell_type": "code",
      "source": [
        "transform  = transforms.Compose([transforms.ToTensor(),\n",
        "                                        transforms.Normalize((0.5, 0.5, 0.5), (0.5, 0.5, 0.5))])\n",
        "\n",
        "trainset = torchvision.datasets.FashionMNIST(root='./fashionMNIST/', train=True,\n",
        "                                        download=True, transform=transform)\n",
        "\n",
        "\n",
        "testset = torchvision.datasets.FashionMNIST(root='./fashionMNIST/', train=False,\n",
        "                                       download=True, transform=transform)"
      ],
      "execution_count": 3,
      "outputs": []
    },
    {
      "metadata": {
        "id": "ptXn0S_fFKPN",
        "colab_type": "code",
        "colab": {
          "base_uri": "https://localhost:8080/",
          "height": 34
        },
        "outputId": "6081c1be-5610-4290-8d17-1e0972f10b3f"
      },
      "cell_type": "code",
      "source": [
        "print('The Length of Train set is : {} and of Test set is {}'.format(len(trainset), len(testset)))"
      ],
      "execution_count": 4,
      "outputs": [
        {
          "output_type": "stream",
          "text": [
            "The Length of Train set is : 60000 and of Test set is 10000\n"
          ],
          "name": "stdout"
        }
      ]
    },
    {
      "metadata": {
        "id": "LeZKPLNuFKPZ",
        "colab_type": "code",
        "colab": {
          "base_uri": "https://localhost:8080/",
          "height": 17
        },
        "outputId": "b87811ad-57c9-46ac-f97b-755a8025ff9b"
      },
      "cell_type": "code",
      "source": [
        "batch_size = 100\n",
        "n_iters = 5500\n",
        "num_epochs = n_iters / (len(trainset) / batch_size)\n",
        "num_epochs = int(num_epochs)\n",
        "\n",
        "learning_rate = 0.001"
      ],
      "execution_count": 5,
      "outputs": []
    },
    {
      "metadata": {
        "id": "i2QWCgT1FKPh",
        "colab_type": "code",
        "colab": {
          "base_uri": "https://localhost:8080/",
          "height": 17
        },
        "outputId": "684d92ba-898a-44a4-ca35-29022cd3225b"
      },
      "cell_type": "code",
      "source": [
        "train_loader = torch.utils.data.DataLoader(dataset=trainset, \n",
        "                                           batch_size=batch_size,            \n",
        "                                           shuffle=True)\n",
        "\n",
        "test_loader = torch.utils.data.DataLoader(dataset=testset, \n",
        "                                          batch_size=batch_size, \n",
        "                                          shuffle=False)"
      ],
      "execution_count": 6,
      "outputs": []
    },
    {
      "metadata": {
        "id": "RpRw8170FKPm",
        "colab_type": "text"
      },
      "cell_type": "markdown",
      "source": [
        "Making Dictionary assigining label name to labels"
      ]
    },
    {
      "metadata": {
        "id": "DoLox2KZFKPn",
        "colab_type": "code",
        "colab": {
          "base_uri": "https://localhost:8080/",
          "height": 17
        },
        "outputId": "969de494-6a9b-4f58-84c2-4dce42e6f053"
      },
      "cell_type": "code",
      "source": [
        "classes = {0 : 'T-Shirt/Top', 1 : 'Trouser', 2 : 'Pullover', 3 : 'Dress',\n",
        "           4 : 'Coat', 5 : 'Sandal', 6 : 'Shirt', 7 : 'Sneaker', 8 : 'Bag',\n",
        "           9 : 'Ankle boot'}"
      ],
      "execution_count": 7,
      "outputs": []
    },
    {
      "metadata": {
        "id": "KauR678BFKPt",
        "colab_type": "text"
      },
      "cell_type": "markdown",
      "source": [
        "** Lets Plot some of the data **"
      ]
    },
    {
      "metadata": {
        "id": "nT2qylvTFKPv",
        "colab_type": "code",
        "colab": {
          "base_uri": "https://localhost:8080/",
          "height": 17
        },
        "outputId": "8f5bb7d8-4639-4e58-ba09-6253025f3cbe"
      },
      "cell_type": "code",
      "source": [
        "def imshow(image, label):\n",
        "    plt.title(classes[label])\n",
        "    plt.imshow(image.reshape(28, 28), cmap = 'Greys', interpolation = 'nearest')"
      ],
      "execution_count": 8,
      "outputs": []
    },
    {
      "metadata": {
        "id": "6pGLPMfqFKP0",
        "colab_type": "code",
        "colab": {
          "base_uri": "https://localhost:8080/",
          "height": 585
        },
        "outputId": "fd9e3525-20df-477d-a13c-e323b1d021e0"
      },
      "cell_type": "code",
      "source": [
        "fig = plt.figure(figsize=(10,10))\n",
        "column = 5\n",
        "row = 4\n",
        "\n",
        "for num in range(0, 20):\n",
        "    image, label = trainset.train_data[num], trainset.train_labels[num].item()\n",
        "    num += 1\n",
        "    fig.add_subplot(row, column, num)\n",
        "    imshow(image, label)"
      ],
      "execution_count": 9,
      "outputs": [
        {
          "output_type": "display_data",
          "data": {
            "image/png": "[encoded data removed]",
            "text/plain": [
              "<matplotlib.figure.Figure at 0x7f57a7eba390>"
            ]
          },
          "metadata": {
            "tags": []
          }
        }
      ]
    },
    {
      "metadata": {
        "id": "_DjFYFpCFKP8",
        "colab_type": "code",
        "colab": {
          "base_uri": "https://localhost:8080/",
          "height": 17
        },
        "outputId": "5cc51715-6e9e-4b15-a797-cef1c9bf644e"
      },
      "cell_type": "code",
      "source": [
        "class convnet1(nn.Module):\n",
        "    def __init__(self):\n",
        "        super(convnet1, self).__init__()\n",
        "        \n",
        "        # Constraints for layer 1\n",
        "        self.conv1 = nn.Conv2d(in_channels=1, out_channels=16, kernel_size=5, stride = 1, padding=2)\n",
        "        self.batch1 = nn.BatchNorm2d(16)\n",
        "        self.relu1 = nn.ReLU()\n",
        "        self.pool1 = nn.MaxPool2d(kernel_size=2) #default stride is equivalent to the kernel_size\n",
        "        \n",
        "        # Constraints for layer 2\n",
        "        self.conv2 = nn.Conv2d(in_channels=16, out_channels=32, kernel_size=5, stride = 1, padding=2)\n",
        "        self.batch2 = nn.BatchNorm2d(32)\n",
        "        self.relu2 = nn.ReLU()\n",
        "        self.pool2 = nn.MaxPool2d(kernel_size=2)\n",
        "        \n",
        "        # Defining the Linear layer\n",
        "        self.fc = nn.Linear(32*7*7, 10)\n",
        "    \n",
        "    # defining the network flow\n",
        "    def forward(self, x):\n",
        "        # Conv 1\n",
        "        out = self.conv1(x)\n",
        "        out = self.batch1(out)\n",
        "        out = self.relu1(out)\n",
        "        \n",
        "        # Max Pool 1\n",
        "        out = self.pool1(out)\n",
        "        \n",
        "        # Conv 2\n",
        "        out = self.conv2(out)\n",
        "        out = self.batch2(out)\n",
        "        out = self.relu2(out)\n",
        "        \n",
        "        # Max Pool 2\n",
        "        out = self.pool2(out)\n",
        "        \n",
        "        out = out.view(out.size(0), -1)\n",
        "        # Linear Layer\n",
        "        out = self.fc(out)\n",
        "        \n",
        "        return out"
      ],
      "execution_count": 10,
      "outputs": []
    },
    {
      "metadata": {
        "id": "0D6DQCQIFKQE",
        "colab_type": "code",
        "colab": {
          "base_uri": "https://localhost:8080/",
          "height": 17
        },
        "outputId": "7938ee88-4462-4947-8ba2-7b4eebeaa813"
      },
      "cell_type": "code",
      "source": [
        "model = convnet1()"
      ],
      "execution_count": 11,
      "outputs": []
    },
    {
      "metadata": {
        "id": "ZTMmKm54FKQJ",
        "colab_type": "code",
        "colab": {
          "base_uri": "https://localhost:8080/",
          "height": 204
        },
        "outputId": "c649c695-63c4-4f97-d747-e019020cf84f"
      },
      "cell_type": "code",
      "source": [
        "model.parameters"
      ],
      "execution_count": 12,
      "outputs": [
        {
          "output_type": "execute_result",
          "data": {
            "text/plain": [
              "<bound method Module.parameters of convnet1(\n",
              "  (conv1): Conv2d(1, 16, kernel_size=(5, 5), stride=(1, 1), padding=(2, 2))\n",
              "  (batch1): BatchNorm2d(16, eps=1e-05, momentum=0.1, affine=True, track_running_stats=True)\n",
              "  (relu1): ReLU()\n",
              "  (pool1): MaxPool2d(kernel_size=2, stride=2, padding=0, dilation=1, ceil_mode=False)\n",
              "  (conv2): Conv2d(16, 32, kernel_size=(5, 5), stride=(1, 1), padding=(2, 2))\n",
              "  (batch2): BatchNorm2d(32, eps=1e-05, momentum=0.1, affine=True, track_running_stats=True)\n",
              "  (relu2): ReLU()\n",
              "  (pool2): MaxPool2d(kernel_size=2, stride=2, padding=0, dilation=1, ceil_mode=False)\n",
              "  (fc): Linear(in_features=1568, out_features=10, bias=True)\n",
              ")>"
            ]
          },
          "metadata": {
            "tags": []
          },
          "execution_count": 12
        }
      ]
    },
    {
      "metadata": {
        "id": "Wz2LUr7WFKQQ",
        "colab_type": "text"
      },
      "cell_type": "markdown",
      "source": [
        "**Defining ``Loss Function`` and ``Optimizer``**"
      ]
    },
    {
      "metadata": {
        "id": "JolOC_z3FKQR",
        "colab_type": "code",
        "colab": {
          "base_uri": "https://localhost:8080/",
          "height": 17
        },
        "outputId": "bbb4594f-ebb6-4004-cbee-b4c563088fef"
      },
      "cell_type": "code",
      "source": [
        "criterion = nn.CrossEntropyLoss()\n",
        "\n",
        "optimizer = torch.optim.Adam(model.parameters(), lr = learning_rate)"
      ],
      "execution_count": 13,
      "outputs": []
    },
    {
      "metadata": {
        "id": "_niVRABEFKQY",
        "colab_type": "text"
      },
      "cell_type": "markdown",
      "source": [
        "**Start training model**"
      ]
    },
    {
      "metadata": {
        "id": "IA2Mma2YFKQb",
        "colab_type": "code",
        "colab": {
          "base_uri": "https://localhost:8080/",
          "height": 935
        },
        "outputId": "e8c9cd7f-efbd-41b7-f525-bcaf4240f664"
      },
      "cell_type": "code",
      "source": [
        "losses = []\n",
        "\n",
        "for epoch in range(num_epochs):\n",
        "    for i, (images, labels) in enumerate(train_loader, 0):\n",
        "        images = Variable(images.float())\n",
        "        labels = Variable(labels)\n",
        "        \n",
        "        # Forward + Backward + Optimizer\n",
        "        optimizer.zero_grad()\n",
        "        outputs = model(images)\n",
        "        loss = criterion(outputs, labels)\n",
        "        loss.backward()\n",
        "        optimizer.step()\n",
        "        \n",
        "        losses.append(loss.data[0])\n",
        "        \n",
        "        if (i+1) % 100 == 0:\n",
        "            print ('Epoch : %d/%d, Iter : %d/%d,  Loss: %.4f' \n",
        "                   %(epoch+1, num_epochs, i+1,\\\n",
        "                     len(trainset)//batch_size, loss.data[0]))"
      ],
      "execution_count": 14,
      "outputs": [
        {
          "output_type": "stream",
          "text": [
            "Epoch : 1/9, Iter : 100/600,  Loss: 0.5071\n",
            "Epoch : 1/9, Iter : 200/600,  Loss: 0.3655\n",
            "Epoch : 1/9, Iter : 300/600,  Loss: 0.2287\n",
            "Epoch : 1/9, Iter : 400/600,  Loss: 0.2877\n",
            "Epoch : 1/9, Iter : 500/600,  Loss: 0.4005\n",
            "Epoch : 1/9, Iter : 600/600,  Loss: 0.4008\n",
            "Epoch : 2/9, Iter : 100/600,  Loss: 0.2327\n",
            "Epoch : 2/9, Iter : 200/600,  Loss: 0.3752\n",
            "Epoch : 2/9, Iter : 300/600,  Loss: 0.4940\n",
            "Epoch : 2/9, Iter : 400/600,  Loss: 0.1683\n",
            "Epoch : 2/9, Iter : 500/600,  Loss: 0.2138\n",
            "Epoch : 2/9, Iter : 600/600,  Loss: 0.3039\n",
            "Epoch : 3/9, Iter : 100/600,  Loss: 0.2026\n",
            "Epoch : 3/9, Iter : 200/600,  Loss: 0.2484\n",
            "Epoch : 3/9, Iter : 300/600,  Loss: 0.3350\n",
            "Epoch : 3/9, Iter : 400/600,  Loss: 0.2764\n",
            "Epoch : 3/9, Iter : 500/600,  Loss: 0.1561\n",
            "Epoch : 3/9, Iter : 600/600,  Loss: 0.4443\n",
            "Epoch : 4/9, Iter : 100/600,  Loss: 0.2019\n",
            "Epoch : 4/9, Iter : 200/600,  Loss: 0.1831\n",
            "Epoch : 4/9, Iter : 300/600,  Loss: 0.2330\n",
            "Epoch : 4/9, Iter : 400/600,  Loss: 0.2141\n",
            "Epoch : 4/9, Iter : 500/600,  Loss: 0.2710\n",
            "Epoch : 4/9, Iter : 600/600,  Loss: 0.1295\n",
            "Epoch : 5/9, Iter : 100/600,  Loss: 0.1534\n",
            "Epoch : 5/9, Iter : 200/600,  Loss: 0.2010\n",
            "Epoch : 5/9, Iter : 300/600,  Loss: 0.1822\n",
            "Epoch : 5/9, Iter : 400/600,  Loss: 0.2131\n",
            "Epoch : 5/9, Iter : 500/600,  Loss: 0.1603\n",
            "Epoch : 5/9, Iter : 600/600,  Loss: 0.1350\n",
            "Epoch : 6/9, Iter : 100/600,  Loss: 0.1908\n",
            "Epoch : 6/9, Iter : 200/600,  Loss: 0.1468\n",
            "Epoch : 6/9, Iter : 300/600,  Loss: 0.2655\n",
            "Epoch : 6/9, Iter : 400/600,  Loss: 0.1692\n",
            "Epoch : 6/9, Iter : 500/600,  Loss: 0.2171\n",
            "Epoch : 6/9, Iter : 600/600,  Loss: 0.2219\n",
            "Epoch : 7/9, Iter : 100/600,  Loss: 0.1354\n",
            "Epoch : 7/9, Iter : 200/600,  Loss: 0.1432\n",
            "Epoch : 7/9, Iter : 300/600,  Loss: 0.1494\n",
            "Epoch : 7/9, Iter : 400/600,  Loss: 0.1616\n",
            "Epoch : 7/9, Iter : 500/600,  Loss: 0.1799\n",
            "Epoch : 7/9, Iter : 600/600,  Loss: 0.1462\n",
            "Epoch : 8/9, Iter : 100/600,  Loss: 0.1245\n",
            "Epoch : 8/9, Iter : 200/600,  Loss: 0.1885\n",
            "Epoch : 8/9, Iter : 300/600,  Loss: 0.1689\n",
            "Epoch : 8/9, Iter : 400/600,  Loss: 0.1403\n",
            "Epoch : 8/9, Iter : 500/600,  Loss: 0.1603\n",
            "Epoch : 8/9, Iter : 600/600,  Loss: 0.2071\n",
            "Epoch : 9/9, Iter : 100/600,  Loss: 0.1108\n",
            "Epoch : 9/9, Iter : 200/600,  Loss: 0.1417\n",
            "Epoch : 9/9, Iter : 300/600,  Loss: 0.1276\n",
            "Epoch : 9/9, Iter : 400/600,  Loss: 0.1672\n",
            "Epoch : 9/9, Iter : 500/600,  Loss: 0.1670\n",
            "Epoch : 9/9, Iter : 600/600,  Loss: 0.1709\n"
          ],
          "name": "stdout"
        }
      ]
    },
    {
      "metadata": {
        "id": "2DKWD56iJSEa",
        "colab_type": "text"
      },
      "cell_type": "markdown",
      "source": [
        "**Saving the model**"
      ]
    },
    {
      "metadata": {
        "id": "QemxW8u-Fj_s",
        "colab_type": "code",
        "colab": {
          "base_uri": "https://localhost:8080/",
          "height": 17
        },
        "outputId": "58ce7947-7f16-405e-c574-bf2691cc4bff"
      },
      "cell_type": "code",
      "source": [
        "torch.save(model.state_dict(), 'convnet1.pt')"
      ],
      "execution_count": 15,
      "outputs": []
    },
    {
      "metadata": {
        "id": "T_NvcAlPK3ZE",
        "colab_type": "text"
      },
      "cell_type": "markdown",
      "source": [
        "**For loading the model**"
      ]
    },
    {
      "metadata": {
        "id": "QIm7CPptJcb5",
        "colab_type": "code",
        "colab": {
          "base_uri": "https://localhost:8080/",
          "height": 17
        },
        "outputId": "f4ca6d4e-3cad-4fd2-a6fa-48e3278057de"
      },
      "cell_type": "code",
      "source": [
        "conv1 = convnet1()\n",
        "conv1.load_state_dict(torch.load('convnet1.pt'))"
      ],
      "execution_count": 16,
      "outputs": []
    },
    {
      "metadata": {
        "id": "XLL3XCkKL396",
        "colab_type": "text"
      },
      "cell_type": "markdown",
      "source": [
        "**`Evaluating` the model**"
      ]
    },
    {
      "metadata": {
        "id": "EGhp72_gL1j7",
        "colab_type": "code",
        "colab": {
          "base_uri": "https://localhost:8080/",
          "height": 34
        },
        "outputId": "1108424a-c1ca-4613-f7b6-70744a46bd26"
      },
      "cell_type": "code",
      "source": [
        "\n",
        "correct = 0\n",
        "total = 0\n",
        "\n",
        "for images, labels in test_loader:\n",
        "  images = Variable(images.float())\n",
        "  \n",
        "  output = conv1(images)\n",
        "  _, predicted = torch.max(output.data, 1)\n",
        "  \n",
        "  total += labels.size(0)\n",
        "  correct += (predicted == labels).sum()\n",
        "\n",
        "  \n",
        "print('Test Accuracy of the model on the 10000 test images: %.4f %%' % (100 * correct / total))"
      ],
      "execution_count": 17,
      "outputs": [
        {
          "output_type": "stream",
          "text": [
            "Test Accuracy of the model on the 10000 test images: 90.0000 %\n"
          ],
          "name": "stdout"
        }
      ]
    },
    {
      "metadata": {
        "id": "5jHI0Rv3La0c",
        "colab_type": "code",
        "colab": {
          "base_uri": "https://localhost:8080/",
          "height": 17
        },
        "outputId": "2edf29d0-c633-4479-dbb1-72e374c73713"
      },
      "cell_type": "code",
      "source": [
        ""
      ],
      "execution_count": 17,
      "outputs": []
    }
  ]
}