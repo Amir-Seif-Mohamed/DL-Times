{
 "cells": [
  {
   "cell_type": "code",
   "execution_count": 1,
   "metadata": {},
   "outputs": [],
   "source": [
    "from __future__ import unicode_literals, print_function, division\n",
    "from io import open\n",
    "import glob\n",
    "import os\n",
    "\n",
    "import torch\n",
    "import torch.nn as nn\n",
    "import torch.nn.functional as functional\n",
    "import torch.optim as optim\n",
    "\n",
    "import random"
   ]
  },
  {
   "cell_type": "code",
   "execution_count": 2,
   "metadata": {},
   "outputs": [],
   "source": [
    "def findFiles(path):\n",
    "    return glob.glob(path)"
   ]
  },
  {
   "cell_type": "code",
   "execution_count": 3,
   "metadata": {},
   "outputs": [
    {
     "name": "stdout",
     "output_type": "stream",
     "text": [
      "['./data/names/Italian.txt', './data/names/Russian.txt', './data/names/Chinese.txt', './data/names/Korean.txt', './data/names/Japanese.txt', './data/names/Czech.txt', './data/names/Irish.txt', './data/names/Spanish.txt', './data/names/Vietnamese.txt', './data/names/Arabic.txt', './data/names/French.txt', './data/names/Polish.txt', './data/names/German.txt', './data/names/English.txt', './data/names/Portuguese.txt', './data/names/Greek.txt', './data/names/Dutch.txt', './data/names/Scottish.txt']\n"
     ]
    }
   ],
   "source": [
    "print(findFiles('./data/names/*.txt'))"
   ]
  },
  {
   "cell_type": "code",
   "execution_count": 4,
   "metadata": {},
   "outputs": [],
   "source": [
    "import unicodedata\n",
    "import string"
   ]
  },
  {
   "cell_type": "code",
   "execution_count": 5,
   "metadata": {},
   "outputs": [],
   "source": [
    "all_letters = string.ascii_letters + \".,;'\"\n",
    "n_letters = len(all_letters)"
   ]
  },
  {
   "cell_type": "code",
   "execution_count": 6,
   "metadata": {},
   "outputs": [],
   "source": [
    "# Turn the unicode to ASCII strings\n",
    "def unicodeToASCII(s):\n",
    "    return \"\".join(\n",
    "                c for c in unicodedata.normalize('NFD', s)\n",
    "                if unicodedata.category(c) != 'Mn'\n",
    "                and c in all_letters\n",
    "    )"
   ]
  },
  {
   "cell_type": "code",
   "execution_count": 7,
   "metadata": {},
   "outputs": [],
   "source": [
    "# Build a dictionaries\n",
    "# Category : [all_names] \n",
    "# Categories list : a list of all languages\n",
    "\n",
    "category_lines = {}\n",
    "all_categories = []\n",
    "\n",
    "# Read a file and split it into lines\n",
    "def readLines(filename):\n",
    "    lines = open(filename, encoding = 'utf-8').read().strip().split('\\n')\n",
    "    return [line for line in lines]"
   ]
  },
  {
   "cell_type": "code",
   "execution_count": 8,
   "metadata": {},
   "outputs": [],
   "source": [
    "for file in findFiles('./data/names/*.txt'):\n",
    "    category = os.path.splitext(os.path.basename(file))[0]\n",
    "    all_categories.append(category)\n",
    "    category_lines[category] = readLines(file)\n",
    "    \n",
    "    \n",
    "n_categories = len(all_categories)"
   ]
  },
  {
   "cell_type": "code",
   "execution_count": 9,
   "metadata": {},
   "outputs": [
    {
     "name": "stdout",
     "output_type": "stream",
     "text": [
      "['Aalsburg', 'Aalst', 'Aarle', 'Achteren', 'Achthoven', 'Adrichem', 'Aggelen', 'Agteren', 'Agthoven', 'Akkeren', 'Aller', 'Alphen', 'Alst', 'Altena', 'Althuis', 'Amelsvoort', 'Amersvoort', 'Amstel', 'Andel', 'Andringa', 'Ankeren', 'Antwerp', 'Antwerpen', 'Apeldoorn', 'Arendonk', 'Asch', 'Assen', 'Baarle', 'Bokhoven', 'Breda', 'Bueren', 'Buggenum', 'Buiren', 'Buren', 'Can', 'Cann', 'Canne', 'Daal', 'Daalen', 'Dael', 'Daele', 'Dale', 'Dalen', 'Laar', 'Vliert', 'Akker', 'Andel', 'Denend', 'Aart', 'Beek', 'Berg', 'Hout', 'Laar', 'See', 'Stoep', 'Veen', 'Ven', 'Venn', 'Venne', 'Vennen', 'Zee', 'Donk', 'Haanraads', 'Haanraats', 'Haanrade', 'Haanrath', 'Haenraats', 'Haenraets', 'Hanraets', 'Hassel', 'Hautem', 'Hautum', 'Heel', 'Herten', 'Hofwegen', 'Horn', 'Hout', 'Houte', 'Houtem', 'Houten', 'Houttum', 'Houtum', 'Kan', 'Kann', 'Kanne', 'Kappel', 'Karl', 'Kikkert', 'Klein', 'Klerk', 'Klerken', 'Klerks', 'Klerkse', 'Klerkx', 'Klerx', 'Kloet', 'Kloeten', 'Kloeter', 'Koeman', 'Koemans', 'Kolen', 'Kolijn', 'Kollen', 'Koning', 'Kool', 'Koole', 'Koolen', 'Kools', 'Kouman', 'Koumans', 'Krantz', 'Kranz', 'Krusen', 'Kuijpers', 'Kuiper', 'Kuipers', 'Laar', 'Langbroek', 'Laren', 'Lauwens', 'Lauwers', 'Leeuwenhoeck', 'Leeuwenhoek', 'Leeuwenhoek', 'Lucas', 'Lucassen', 'Lyon', 'Maas', 'Maes', 'Maessen', 'Marquering', 'Marqueringh', 'Marquerink', 'Mas', 'Meeuwe', 'Meeuwes', 'Meeuwessen', 'Meeuweszen', 'Meeuwis', 'Meeuwissen', 'Meeuwsen', 'Meisner', 'Merckx', 'Mertens', 'Michel', 'Middelburg', 'Middlesworth', 'Mohren', 'Mooren', 'Mulder', 'Muyskens', 'Nagel', 'Nelissen', 'Nifterick', 'Nifterick', 'Nifterik', 'Nifterik', 'Niftrik', 'Niftrik', 'Offermans', 'Ogterop', 'Ogtrop', 'Oirschot', 'Oirschotten', 'Oomen', 'Oorschot', 'Oorschot', 'Ophoven', 'Otten', 'Pander', 'Panders', 'Paulis', 'Paulissen', 'Peerenboom', 'Peeters', 'Peij', 'Pender', 'Penders', 'Pennders', 'Penner', 'Penners', 'Peter', 'Peusen', 'Pey', 'Philips', 'Prinsen', 'Rademaker', 'Rademakers', 'Ramaaker', 'Ramaker', 'Ramakers', 'Ramecker', 'Rameckers', 'Raske', 'Reijnder', 'Reijnders', 'Reinder', 'Reinders', 'Reynder', 'Reynders', 'Richard', 'Rietveld', 'Rijnder', 'Rijnders', 'Robert', 'Roggeveen', 'Roijacker', 'Roijackers', 'Roijakker', 'Roijakkers', 'Romeijn', 'Romeijnders', 'Romeijnsen', 'Romijn', 'Romijnders', 'Romijnsen', 'Rompa', 'Rompa', 'Rompaeij', 'Rompaey', 'Rompaij', 'Rompay', 'Rompaye', 'Rompu', 'Rompuy', 'Rooiakker', 'Rooiakkers', 'Rooijakker', 'Rooijakkers', 'Roosa', 'Roosevelt', 'Rossem', 'Rossum', 'Rumpade', 'Rutten', 'Ryskamp', 'Samson', 'Sanna', 'Schenck', 'Schermer', 'Schneider', 'Schneiders', 'Schneijder', 'Schneijders', 'Schoonenburg', 'Schoonraad', 'Schoorel', 'Schoorel', 'Schoorl', 'Schorel', 'Schrijnemakers', 'Schuyler', 'Schwarzenberg', 'Seeger', 'Seegers', 'Seelen', 'Segers', 'Segher', 'Seghers', 'Severijns', 'Severins', 'Sevriens', 'Silje', 'Simon', 'Simonis', 'Slootmaekers', 'Smeets', 'Smets', 'Smit', 'Smits', 'Snaaijer', 'Snaijer', 'Sneiders', 'Sneijder', 'Sneijders', 'Sneijer', 'Sneijers', 'Snell', 'Snider', 'Sniders', 'Snijder', 'Snijders', 'Snyder', 'Snyders', 'Specht', 'Spijker', 'Spiker', 'Ter Avest', 'Teunissen', 'Theunissen', 'Tholberg', 'Tillens', 'Tunison', 'Tunneson', 'Vandale', 'Vandroogenbroeck', 'Vann']\n"
     ]
    }
   ],
   "source": [
    "print(category_lines['Dutch'])"
   ]
  },
  {
   "cell_type": "markdown",
   "metadata": {},
   "source": [
    "**Converting to Tensor**"
   ]
  },
  {
   "cell_type": "code",
   "execution_count": 10,
   "metadata": {},
   "outputs": [],
   "source": [
    "# Returns the index of the letter from the all_letters\n",
    "def letterToIndex(letter):\n",
    "    return all_letters.find(letter)\n",
    "\n",
    "# Returns the One Hot Encoded Notation for that letter\n",
    "def letterToTensor(letter):\n",
    "    tensor = torch.zeros(1, n_letters)\n",
    "    tensor[0][letterToIndex(letter)] = 1\n",
    "    return tensor\n",
    "\n",
    "# Convert the word into the array of One Hot Encoded Notation \n",
    "def lineToTensor(line):\n",
    "    tensor = torch.zeros(len(line), 1, n_letters)\n",
    "    for li, letters in enumerate(line):\n",
    "        tensor[li][0][letterToIndex(letters)] = 1\n",
    "        \n",
    "    return tensor"
   ]
  },
  {
   "cell_type": "code",
   "execution_count": 11,
   "metadata": {},
   "outputs": [
    {
     "name": "stdout",
     "output_type": "stream",
     "text": [
      "tensor([[[ 0.,  0.,  0.,  0.,  0.,  0.,  0.,  0.,  0.,  0.,  0.,\n",
      "           0.,  0.,  0.,  0.,  0.,  0.,  0.,  0.,  0.,  0.,  0.,\n",
      "           0.,  0.,  0.,  0.,  0.,  0.,  0.,  0.,  0.,  0.,  0.,\n",
      "           0.,  0.,  0.,  0.,  0.,  1.,  0.,  0.,  0.,  0.,  0.,\n",
      "           0.,  0.,  0.,  0.,  0.,  0.,  0.,  0.,  0.,  0.,  0.,\n",
      "           0.]],\n",
      "\n",
      "        [[ 1.,  0.,  0.,  0.,  0.,  0.,  0.,  0.,  0.,  0.,  0.,\n",
      "           0.,  0.,  0.,  0.,  0.,  0.,  0.,  0.,  0.,  0.,  0.,\n",
      "           0.,  0.,  0.,  0.,  0.,  0.,  0.,  0.,  0.,  0.,  0.,\n",
      "           0.,  0.,  0.,  0.,  0.,  0.,  0.,  0.,  0.,  0.,  0.,\n",
      "           0.,  0.,  0.,  0.,  0.,  0.,  0.,  0.,  0.,  0.,  0.,\n",
      "           0.]],\n",
      "\n",
      "        [[ 0.,  0.,  0.,  0.,  0.,  0.,  0.,  0.,  0.,  0.,  0.,\n",
      "           0.,  0.,  0.,  0.,  0.,  0.,  0.,  0.,  0.,  0.,  0.,\n",
      "           0.,  0.,  1.,  0.,  0.,  0.,  0.,  0.,  0.,  0.,  0.,\n",
      "           0.,  0.,  0.,  0.,  0.,  0.,  0.,  0.,  0.,  0.,  0.,\n",
      "           0.,  0.,  0.,  0.,  0.,  0.,  0.,  0.,  0.,  0.,  0.,\n",
      "           0.]],\n",
      "\n",
      "        [[ 1.,  0.,  0.,  0.,  0.,  0.,  0.,  0.,  0.,  0.,  0.,\n",
      "           0.,  0.,  0.,  0.,  0.,  0.,  0.,  0.,  0.,  0.,  0.,\n",
      "           0.,  0.,  0.,  0.,  0.,  0.,  0.,  0.,  0.,  0.,  0.,\n",
      "           0.,  0.,  0.,  0.,  0.,  0.,  0.,  0.,  0.,  0.,  0.,\n",
      "           0.,  0.,  0.,  0.,  0.,  0.,  0.,  0.,  0.,  0.,  0.,\n",
      "           0.]],\n",
      "\n",
      "        [[ 0.,  0.,  0.,  0.,  0.,  0.,  0.,  0.,  0.,  0.,  0.,\n",
      "           0.,  0.,  1.,  0.,  0.,  0.,  0.,  0.,  0.,  0.,  0.,\n",
      "           0.,  0.,  0.,  0.,  0.,  0.,  0.,  0.,  0.,  0.,  0.,\n",
      "           0.,  0.,  0.,  0.,  0.,  0.,  0.,  0.,  0.,  0.,  0.,\n",
      "           0.,  0.,  0.,  0.,  0.,  0.,  0.,  0.,  0.,  0.,  0.,\n",
      "           0.]],\n",
      "\n",
      "        [[ 0.,  0.,  0.,  0.,  0.,  0.,  0.,  0.,  0.,  0.,  1.,\n",
      "           0.,  0.,  0.,  0.,  0.,  0.,  0.,  0.,  0.,  0.,  0.,\n",
      "           0.,  0.,  0.,  0.,  0.,  0.,  0.,  0.,  0.,  0.,  0.,\n",
      "           0.,  0.,  0.,  0.,  0.,  0.,  0.,  0.,  0.,  0.,  0.,\n",
      "           0.,  0.,  0.,  0.,  0.,  0.,  0.,  0.,  0.,  0.,  0.,\n",
      "           0.]]])\n"
     ]
    }
   ],
   "source": [
    "print(lineToTensor('Mayank'))"
   ]
  },
  {
   "cell_type": "markdown",
   "metadata": {},
   "source": [
    "**Creating the Network**"
   ]
  },
  {
   "cell_type": "code",
   "execution_count": 12,
   "metadata": {},
   "outputs": [],
   "source": [
    "class RNNusingLinear(nn.Module):\n",
    "    def __init__(self, input_size, hidden_size, output_size):\n",
    "        super(RNNusingLinear, self).__init__()\n",
    "        \n",
    "        self.hidden_size = hidden_size\n",
    "        self.i2h = nn.Linear(input_size + hidden_size, hidden_size)\n",
    "        self.i2o = nn.Linear(input_size + hidden_size, output_size)\n",
    "        \n",
    "        self.softmax = nn.LogSoftmax(dim = 1)\n",
    "        \n",
    "    def forward(self, input, hidden):\n",
    "        combined = torch.cat((input, hidden), 1)\n",
    "        hidden = self.i2h(combined)\n",
    "        output = self.i2o(combined)\n",
    "        output = self.softmax(output)\n",
    "        \n",
    "        return output, hidden\n",
    "    \n",
    "    def initHidden(self):\n",
    "        return torch.zeros(1, self.hidden_size)\n",
    "    \n",
    "n_hidden = 130\n",
    "rnn = RNNusingLinear(n_letters, n_hidden, n_categories)"
   ]
  },
  {
   "cell_type": "markdown",
   "metadata": {},
   "source": [
    "**Training the network**"
   ]
  },
  {
   "cell_type": "code",
   "execution_count": 13,
   "metadata": {},
   "outputs": [],
   "source": [
    "def categoryFromOutput(output):\n",
    "    n_top, i_top = output.topk(1)\n",
    "    category_i = i_top[0].item()\n",
    "    return all_categories[category_i], i_top"
   ]
  },
  {
   "cell_type": "code",
   "execution_count": 14,
   "metadata": {},
   "outputs": [
    {
     "name": "stdout",
     "output_type": "stream",
     "text": [
      "----------------------------------------------------------------------------------------------------\n",
      "Category : Dutch | Line : Andringa\n",
      "----------------------------------------------------------------------------------------------------\n",
      "----------------------------------------------------------------------------------------------------\n",
      "Category : Greek | Line : Samios\n",
      "----------------------------------------------------------------------------------------------------\n",
      "----------------------------------------------------------------------------------------------------\n",
      "Category : Chinese | Line : Seah\n",
      "----------------------------------------------------------------------------------------------------\n",
      "----------------------------------------------------------------------------------------------------\n",
      "Category : Korean | Line : Ko\n",
      "----------------------------------------------------------------------------------------------------\n",
      "----------------------------------------------------------------------------------------------------\n",
      "Category : Greek | Line : Kotsiopoulos\n",
      "----------------------------------------------------------------------------------------------------\n",
      "----------------------------------------------------------------------------------------------------\n",
      "Category : German | Line : Mohren\n",
      "----------------------------------------------------------------------------------------------------\n",
      "----------------------------------------------------------------------------------------------------\n",
      "Category : Spanish | Line : Ubina\n",
      "----------------------------------------------------------------------------------------------------\n",
      "----------------------------------------------------------------------------------------------------\n",
      "Category : French | Line : Germain\n",
      "----------------------------------------------------------------------------------------------------\n",
      "----------------------------------------------------------------------------------------------------\n",
      "Category : Greek | Line : Rigatos\n",
      "----------------------------------------------------------------------------------------------------\n",
      "----------------------------------------------------------------------------------------------------\n",
      "Category : Scottish | Line : Sutherland\n",
      "----------------------------------------------------------------------------------------------------\n"
     ]
    }
   ],
   "source": [
    "def randomChoice(l):\n",
    "    return l[random.randint(0, len(l)) - 1]\n",
    "\n",
    "def randomTrainingExample():\n",
    "    category = randomChoice(all_categories)\n",
    "    line = randomChoice(category_lines[category])\n",
    "    category_tensor = torch.tensor([all_categories.index(category)], dtype = torch.long)\n",
    "    line_tensor = lineToTensor(line)\n",
    "    return category, line, category_tensor, line_tensor\n",
    "\n",
    "for i in range(10):\n",
    "    category, line, category_tensor, line_tensor = randomTrainingExample()\n",
    "    print('-' * 100)\n",
    "    print('Category : {} | Line : {}'.format(category, line))\n",
    "    print('-' * 100)"
   ]
  },
  {
   "cell_type": "markdown",
   "metadata": {},
   "source": [
    "Since the last layer of our Network is Log Loss. Therefore, the apt criterion for this will be `NLLLoss()`."
   ]
  },
  {
   "cell_type": "code",
   "execution_count": 15,
   "metadata": {},
   "outputs": [],
   "source": [
    "criterion = nn.NLLLoss()"
   ]
  },
  {
   "cell_type": "markdown",
   "metadata": {},
   "source": [
    "Each loop of training will:\n",
    "\n",
    "- Create input and target tensors\n",
    "- Create a zeroed initial hidden state\n",
    "- Read each letter in and\n",
    " - Keep hidden state for next letter\n",
    "- Compare final output to target\n",
    "- Back-propagate\n",
    "- Return the output and loss"
   ]
  },
  {
   "cell_type": "code",
   "execution_count": 16,
   "metadata": {},
   "outputs": [],
   "source": [
    "learning_rate = 0.005\n",
    "optimizer = optim.SGD(rnn.parameters(), lr = learning_rate)\n",
    "\n",
    "def train(category_tensor, line_tensor):\n",
    "    hidden = rnn.initHidden()\n",
    "    \n",
    "    rnn.zero_grad()\n",
    "    \n",
    "    for i in range(line_tensor.size()[0]):\n",
    "        output, hidden = rnn(line_tensor[i], hidden)\n",
    "    \n",
    "    loss = criterion(output, category_tensor)\n",
    "    \n",
    "    loss.backward()\n",
    "    optimizer.step()\n",
    "    \n",
    "    return output, loss.item()  "
   ]
  },
  {
   "cell_type": "code",
   "execution_count": 17,
   "metadata": {},
   "outputs": [],
   "source": [
    "import time\n",
    "import math\n",
    "\n",
    "n_iters = 100000\n",
    "print_every = 5000\n",
    "plot_every = 1000\n",
    "\n",
    "def timeSince(since):\n",
    "    now = time.time()\n",
    "    s = now - since\n",
    "    m = math.floor(s / 60)\n",
    "    s -= m * 60\n",
    "    return '%dm %ds' % (m, s)"
   ]
  },
  {
   "cell_type": "code",
   "execution_count": 18,
   "metadata": {
    "scrolled": true
   },
   "outputs": [
    {
     "name": "stdout",
     "output_type": "stream",
     "text": [
      "Iter : 5000 | Completion : 5.0% | Time : 0m 6s | Loss : 2.3312461376190186\n",
      "Iter : 10000 | Completion : 10.0% | Time : 0m 12s | Loss : 2.679201364517212\n",
      "Iter : 15000 | Completion : 15.0% | Time : 0m 18s | Loss : 1.4934271574020386\n",
      "Iter : 20000 | Completion : 20.0% | Time : 0m 24s | Loss : 1.6500060558319092\n",
      "Iter : 25000 | Completion : 25.0% | Time : 0m 29s | Loss : 2.1927435398101807\n",
      "Iter : 30000 | Completion : 30.0% | Time : 0m 35s | Loss : 1.4142651557922363\n",
      "Iter : 35000 | Completion : 35.0% | Time : 0m 43s | Loss : 0.9419640302658081\n",
      "Iter : 40000 | Completion : 40.0% | Time : 0m 50s | Loss : 0.2650998830795288\n",
      "Iter : 45000 | Completion : 45.0% | Time : 0m 58s | Loss : 3.280268430709839\n",
      "Iter : 50000 | Completion : 50.0% | Time : 1m 5s | Loss : 3.9855399131774902\n",
      "Iter : 55000 | Completion : 55.00000000000001% | Time : 1m 11s | Loss : 0.869793176651001\n",
      "Iter : 60000 | Completion : 60.0% | Time : 1m 16s | Loss : 0.9934436082839966\n",
      "Iter : 65000 | Completion : 65.0% | Time : 1m 22s | Loss : 1.6959712505340576\n",
      "Iter : 70000 | Completion : 70.0% | Time : 1m 28s | Loss : 1.607338547706604\n",
      "Iter : 75000 | Completion : 75.0% | Time : 1m 34s | Loss : 0.2761458158493042\n",
      "Iter : 80000 | Completion : 80.0% | Time : 1m 40s | Loss : 0.1723327934741974\n",
      "Iter : 85000 | Completion : 85.0% | Time : 1m 45s | Loss : 0.5588226318359375\n",
      "Iter : 90000 | Completion : 90.0% | Time : 1m 51s | Loss : 3.0654749870300293\n",
      "Iter : 95000 | Completion : 95.0% | Time : 1m 57s | Loss : 2.1871399879455566\n",
      "Iter : 100000 | Completion : 100.0% | Time : 2m 2s | Loss : 1.455329418182373\n"
     ]
    }
   ],
   "source": [
    "# Keep track of losses for plotting\n",
    "current_loss = 0\n",
    "all_losses = []\n",
    "\n",
    "start = time.time()\n",
    "\n",
    "for iter in range(1, n_iters + 1):\n",
    "        category, line, category_tensor, line_tensor = randomTrainingExample()\n",
    "        output, loss = train(category_tensor = category_tensor, line_tensor = line_tensor)\n",
    "        current_loss += loss\n",
    "        \n",
    "        if iter % print_every == 0:\n",
    "            print('Iter : {} | Completion : {}% | Time : {} | Loss : {}'.format(\n",
    "                iter, iter / n_iters * 100, timeSince(start), loss))\n",
    "        \n",
    "        if iter % plot_every == 0:\n",
    "            all_losses.append(current_loss / plot_every)\n",
    "            current_loss = 0"
   ]
  },
  {
   "cell_type": "code",
   "execution_count": 23,
   "metadata": {},
   "outputs": [
    {
     "data": {
      "image/png": "[encoded data removed]",
      "text/plain": [
       "<matplotlib.figure.Figure at 0x7f96b2625048>"
      ]
     },
     "metadata": {},
     "output_type": "display_data"
    }
   ],
   "source": [
    "import matplotlib.pyplot as plt\n",
    "import matplotlib.ticker as ticker\n",
    "\n",
    "plt.figure()\n",
    "plt.plot(all_losses)\n",
    "plt.show()"
   ]
  },
  {
   "cell_type": "markdown",
   "metadata": {},
   "source": [
    "**Evaluating the Result**"
   ]
  },
  {
   "cell_type": "code",
   "execution_count": 20,
   "metadata": {},
   "outputs": [
    {
     "data": {
      "image/png": "[encoded data removed]",
      "text/plain": [
       "<matplotlib.figure.Figure at 0x7f96b283eeb8>"
      ]
     },
     "metadata": {},
     "output_type": "display_data"
    }
   ],
   "source": [
    "n_confusion = 10000\n",
    "confusion_mat = torch.zeros(n_categories, n_categories)\n",
    "\n",
    "def evaluate(line_tensor):\n",
    "    hidden = rnn.initHidden()\n",
    "    \n",
    "    for i in range(line_tensor.size()[0]):\n",
    "        output, hidden = rnn(line_tensor[i], hidden)\n",
    "        \n",
    "    return output\n",
    "\n",
    "\n",
    "for i in range(n_confusion):\n",
    "    category,line, category_tensor, line_tensor = randomTrainingExample()\n",
    "    output = evaluate(line_tensor)\n",
    "    \n",
    "    guess, guess_i = categoryFromOutput(output = output)\n",
    "    category_i = all_categories.index(category)\n",
    "    \n",
    "    confusion_mat[category_i][guess_i] += 1\n",
    "    \n",
    "# Normalize the data accross a row in confusion matrix\n",
    "for i in range(n_categories):\n",
    "    confusion_mat[i] = confusion_mat[i] / confusion_mat[i].sum()\n",
    "    \n",
    "# Set up the plot\n",
    "fig = plt.figure()\n",
    "ax = fig.add_subplot(111)\n",
    "cax = ax.matshow(confusion_mat.numpy())\n",
    "fig.colorbar(cax)\n",
    "\n",
    "# Set up the axes\n",
    "ax.set_xticklabels([''] + all_categories, rotation = 90)\n",
    "ax.set_yticklabels([''] + all_categories)\n",
    "\n",
    "# Force label at every ticks\n",
    "ax.xaxis.set_major_locator(ticker.MultipleLocator(1))\n",
    "ax.yaxis.set_major_locator(ticker.MultipleLocator(1))\n",
    "\n",
    "plt.show()"
   ]
  },
  {
   "cell_type": "markdown",
   "metadata": {},
   "source": [
    "**Running on User Input**"
   ]
  },
  {
   "cell_type": "code",
   "execution_count": 21,
   "metadata": {},
   "outputs": [
    {
     "name": "stdout",
     "output_type": "stream",
     "text": [
      "----------------------------------------------------------------------------------------------------\n",
      "Abreu\n",
      "(-0.6249818801879883) : Portuguese\n",
      "(-1.8793716430664062) : Spanish\n",
      "(-2.5862555503845215) : German\n",
      "----------------------------------------------------------------------------------------------------\n",
      "Afonso\n",
      "(-0.6704602241516113) : Italian\n",
      "(-2.132704019546509) : Spanish\n",
      "(-2.1994845867156982) : Japanese\n",
      "----------------------------------------------------------------------------------------------------\n",
      "Bruis\n",
      "(-0.9184717535972595) : Arabic\n",
      "(-1.1330018043518066) : Scottish\n",
      "(-2.6703052520751953) : Portuguese\n",
      "----------------------------------------------------------------------------------------------------\n",
      "Brus\n",
      "(-0.2171916365623474) : Portuguese\n",
      "(-3.4353950023651123) : Spanish\n",
      "(-3.4970176219940186) : Dutch\n"
     ]
    },
    {
     "data": {
      "text/plain": [
       "[[-0.2171916365623474, 'Portuguese'],\n",
       " [-3.4353950023651123, 'Spanish'],\n",
       " [-3.4970176219940186, 'Dutch']]"
      ]
     },
     "execution_count": 21,
     "metadata": {},
     "output_type": "execute_result"
    }
   ],
   "source": [
    "def predict(input_line, n_predictions = 3):\n",
    "    print('--' * 50)\n",
    "    print('{}'.format(input_line))\n",
    "    \n",
    "    with torch.no_grad():\n",
    "        output = evaluate(lineToTensor(input_line))\n",
    "        \n",
    "        topv, topi = output.topk(n_predictions, dim = 1)\n",
    "        predictions = []\n",
    "        \n",
    "        for i in range(n_predictions):\n",
    "            value = topv[0][i].item()\n",
    "            category_index = topi[0][i].item()\n",
    "            print('({}) : {}'.format(value, all_categories[category_index]))\n",
    "            predictions.append([value, all_categories[category_index]])\n",
    "    \n",
    "    return predictions\n",
    "\n",
    "predict('Abreu')\n",
    "predict('Afonso')\n",
    "predict('Bruis')\n",
    "predict('Brus')"
   ]
  },
  {
   "cell_type": "code",
   "execution_count": 22,
   "metadata": {},
   "outputs": [
    {
     "name": "stderr",
     "output_type": "stream",
     "text": [
      "Bottle v0.12.13 server starting up (using WSGIRefServer())...\n",
      "Listening on http://localhost:5533/\n",
      "Hit Ctrl-C to quit.\n",
      "\n",
      "127.0.0.1 - - [31/Jul/2018 11:57:39] \"GET / HTTP/1.1\" 404 720\n",
      "127.0.0.1 - - [31/Jul/2018 11:57:39] \"GET /favicon.ico HTTP/1.1\" 200 347\n"
     ]
    },
    {
     "name": "stdout",
     "output_type": "stream",
     "text": [
      "----------------------------------------------------------------------------------------------------\n",
      "favicon.ico\n",
      "(-1.0286813974380493) : Portuguese\n",
      "(-2.117703914642334) : Czech\n",
      "(-2.3017642498016357) : Italian\n",
      "(-2.4107065200805664) : Russian\n",
      "(-2.4403269290924072) : Spanish\n",
      "(-2.8265457153320312) : German\n",
      "(-2.994394540786743) : Greek\n",
      "(-3.411245822906494) : English\n",
      "(-3.9691426753997803) : Scottish\n",
      "(-3.9751083850860596) : French\n",
      "----------------------------------------------------------------------------------------------------\n",
      "Jackman\n",
      "(-0.7812950015068054) : Scottish\n",
      "(-1.7637760639190674) : English\n",
      "(-2.1319079399108887) : Russian\n",
      "(-2.836481809616089) : French\n",
      "(-2.8891589641571045) : Czech\n",
      "(-3.519850969314575) : Irish\n",
      "(-3.543316125869751) : Greek\n",
      "(-4.03550910949707) : German\n",
      "(-4.178177833557129) : Japanese\n",
      "(-4.2282280921936035) : Arabic\n",
      "----------------------------------------------------------------------------------------------------\n",
      "favicon.ico\n",
      "(-1.0286813974380493) : Portuguese\n",
      "(-2.117703914642334) : Czech\n",
      "(-2.3017642498016357) : Italian\n",
      "(-2.4107065200805664) : Russian\n",
      "(-2.4403269290924072) : Spanish\n",
      "(-2.8265457153320312) : German\n",
      "(-2.994394540786743) : Greek\n",
      "(-3.411245822906494) : English\n",
      "(-3.9691426753997803) : Scottish\n",
      "(-3.9751083850860596) : French\n"
     ]
    },
    {
     "name": "stderr",
     "output_type": "stream",
     "text": [
      "127.0.0.1 - - [31/Jul/2018 11:57:45] \"GET /Jackman HTTP/1.1\" 200 339\n",
      "127.0.0.1 - - [31/Jul/2018 11:57:45] \"GET /favicon.ico HTTP/1.1\" 200 347\n"
     ]
    },
    {
     "name": "stdout",
     "output_type": "stream",
     "text": [
      "----------------------------------------------------------------------------------------------------\n",
      "Mishra\n",
      "(-0.9993343353271484) : Japanese\n",
      "(-1.359426498413086) : Arabic\n",
      "(-2.345374822616577) : Scottish\n",
      "(-2.512455940246582) : Irish\n",
      "(-3.039694309234619) : Czech\n",
      "(-3.080331325531006) : Polish\n",
      "(-3.656350612640381) : Portuguese\n",
      "(-3.9653000831604004) : Italian\n",
      "(-4.073171615600586) : Russian\n",
      "(-4.074536323547363) : Spanish\n",
      "----------------------------------------------------------------------------------------------------\n",
      "favicon.ico\n",
      "(-1.0286813974380493) : Portuguese\n",
      "(-2.117703914642334) : Czech\n",
      "(-2.3017642498016357) : Italian\n",
      "(-2.4107065200805664) : Russian\n",
      "(-2.4403269290924072) : Spanish\n",
      "(-2.8265457153320312) : German\n",
      "(-2.994394540786743) : Greek\n",
      "(-3.411245822906494) : English\n",
      "(-3.9691426753997803) : Scottish\n",
      "(-3.9751083850860596) : French\n"
     ]
    },
    {
     "name": "stderr",
     "output_type": "stream",
     "text": [
      "127.0.0.1 - - [31/Jul/2018 11:58:43] \"GET /Mishra HTTP/1.1\" 200 343\n",
      "127.0.0.1 - - [31/Jul/2018 11:58:43] \"GET /favicon.ico HTTP/1.1\" 200 347\n"
     ]
    },
    {
     "name": "stdout",
     "output_type": "stream",
     "text": [
      "----------------------------------------------------------------------------------------------------\n",
      "Brothaigh\n",
      "(-0.7266460657119751) : Russian\n",
      "(-1.656032919883728) : Czech\n",
      "(-2.1492927074432373) : Polish\n",
      "(-2.571678638458252) : English\n",
      "(-3.3735384941101074) : Irish\n",
      "(-3.5828609466552734) : German\n",
      "(-4.206081390380859) : Dutch\n",
      "(-4.228754997253418) : Japanese\n",
      "(-4.243834018707275) : Greek\n",
      "(-4.37704610824585) : French\n",
      "----------------------------------------------------------------------------------------------------\n",
      "favicon.ico\n",
      "(-1.0286813974380493) : Portuguese\n",
      "(-2.117703914642334) : Czech\n",
      "(-2.3017642498016357) : Italian\n",
      "(-2.4107065200805664) : Russian\n",
      "(-2.4403269290924072) : Spanish\n",
      "(-2.8265457153320312) : German\n",
      "(-2.994394540786743) : Greek\n",
      "(-3.411245822906494) : English\n",
      "(-3.9691426753997803) : Scottish\n",
      "(-3.9751083850860596) : French\n"
     ]
    },
    {
     "name": "stderr",
     "output_type": "stream",
     "text": [
      "127.0.0.1 - - [31/Jul/2018 11:59:02] \"GET /Brothaigh HTTP/1.1\" 200 335\n",
      "127.0.0.1 - - [31/Jul/2018 11:59:02] \"GET /favicon.ico HTTP/1.1\" 200 347\n"
     ]
    },
    {
     "name": "stdout",
     "output_type": "stream",
     "text": [
      "----------------------------------------------------------------------------------------------------\n",
      "Kobayashi\n",
      "(-0.7687544226646423) : Polish\n",
      "(-1.0105351209640503) : Japanese\n",
      "(-2.423795223236084) : Greek\n",
      "(-3.401334524154663) : Russian\n",
      "(-3.889617681503296) : Dutch\n",
      "(-4.22165584564209) : Czech\n",
      "(-5.201725006103516) : Scottish\n",
      "(-5.630153179168701) : Italian\n",
      "(-6.1735053062438965) : English\n",
      "(-6.38984489440918) : Irish\n",
      "----------------------------------------------------------------------------------------------------\n",
      "favicon.ico\n",
      "(-1.0286813974380493) : Portuguese\n",
      "(-2.117703914642334) : Czech\n",
      "(-2.3017642498016357) : Italian\n",
      "(-2.4107065200805664) : Russian\n",
      "(-2.4403269290924072) : Spanish\n",
      "(-2.8265457153320312) : German\n",
      "(-2.994394540786743) : Greek\n",
      "(-3.411245822906494) : English\n",
      "(-3.9691426753997803) : Scottish\n",
      "(-3.9751083850860596) : French\n"
     ]
    },
    {
     "name": "stderr",
     "output_type": "stream",
     "text": [
      "127.0.0.1 - - [31/Jul/2018 11:59:25] \"GET /Kobayashi HTTP/1.1\" 200 336\n",
      "127.0.0.1 - - [31/Jul/2018 11:59:25] \"GET /favicon.ico HTTP/1.1\" 200 347\n"
     ]
    }
   ],
   "source": [
    "from bottle import route, run\n",
    "\n",
    "@route('/<input_line>')\n",
    "def index(input_line):\n",
    "    return {'result': predict(input_line, 10)}\n",
    "\n",
    "run(host='localhost', port=5533)"
   ]
  },
  {
   "cell_type": "code",
   "execution_count": null,
   "metadata": {},
   "outputs": [],
   "source": []
  }
 ],
 "metadata": {
  "kernelspec": {
   "display_name": "Python 3",
   "language": "python",
   "name": "python3"
  },
  "language_info": {
   "codemirror_mode": {
    "name": "ipython",
    "version": 3
   },
   "file_extension": ".py",
   "mimetype": "text/x-python",
   "name": "python",
   "nbconvert_exporter": "python",
   "pygments_lexer": "ipython3",
   "version": "3.6.4"
  }
 },
 "nbformat": 4,
 "nbformat_minor": 2
}
