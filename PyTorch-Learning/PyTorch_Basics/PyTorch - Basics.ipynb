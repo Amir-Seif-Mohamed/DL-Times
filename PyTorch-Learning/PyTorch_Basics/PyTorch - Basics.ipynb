{
 "cells": [
  {
   "cell_type": "markdown",
   "metadata": {
    "colab_type": "text",
    "id": "hVjWJsKxRFjW"
   },
   "source": [
    "# PyTorch Basics"
   ]
  },
  {
   "cell_type": "markdown",
   "metadata": {
    "colab_type": "text",
    "id": "P1t85X4PRFjW"
   },
   "source": [
    "** \n",
    "Installing and Importing torch Module\n",
    "**"
   ]
  },
  {
   "cell_type": "code",
   "execution_count": null,
   "metadata": {
    "colab": {
     "autoexec": {
      "startup": false,
      "wait_interval": 0
     }
    },
    "colab_type": "code",
    "id": "Vxw6PQH0RFjY"
   },
   "outputs": [],
   "source": [
    "from os import path\n",
    "from wheel.pep425tags import get_abbr_impl, get_impl_ver, get_abi_tag\n",
    "\n",
    "platform = '{}{}-{}'.format(get_abbr_impl(), get_impl_ver(), get_abi_tag())\n",
    "\n",
    "accelerator = 'cu80' if path.exists('/opt/bin/nvidia-smi') else 'cpu'\n",
    "\n",
    "!pip install -q http://download.pytorch.org/whl/{accelerator}/torch-0.4.0-{platform}-linux_x86_64.whl torchvision\n",
    "    \n",
    "import torch"
   ]
  },
  {
   "cell_type": "markdown",
   "metadata": {
    "colab_type": "text",
    "id": "o3hcrzXmRFjb"
   },
   "source": [
    "** Constructing a matrix uninitialised **"
   ]
  },
  {
   "cell_type": "code",
   "execution_count": 2,
   "metadata": {
    "colab": {
     "autoexec": {
      "startup": false,
      "wait_interval": 0
     },
     "base_uri": "https://localhost:8080/",
     "height": 119
    },
    "colab_type": "code",
    "executionInfo": {
     "elapsed": 733,
     "status": "ok",
     "timestamp": 1526630503014,
     "user": {
      "displayName": "Mayank Mishra",
      "photoUrl": "https://lh3.googleusercontent.com/a/default-user=s128",
      "userId": "109554884281440712123"
     },
     "user_tz": -330
    },
    "id": "J9qrAJ2WRFjb",
    "outputId": "fbaf305f-b179-4e28-b957-3cb0d1d08f85"
   },
   "outputs": [
    {
     "data": {
      "text/plain": [
       "tensor(1.00000e-37 *\n",
       "       [[ 1.1880,  0.0000,  0.0000],\n",
       "        [ 0.0000,  0.0000,  0.0000],\n",
       "        [ 0.0000,  0.0000,  0.0000],\n",
       "        [ 0.0000,  0.0000,  0.0000],\n",
       "        [ 0.0000,  0.0000,  0.0000]])"
      ]
     },
     "execution_count": 2,
     "metadata": {
      "tags": []
     },
     "output_type": "execute_result"
    }
   ],
   "source": [
    "x = torch.empty(5,3)\n",
    "x"
   ]
  },
  {
   "cell_type": "code",
   "execution_count": 3,
   "metadata": {
    "colab": {
     "autoexec": {
      "startup": false,
      "wait_interval": 0
     },
     "base_uri": "https://localhost:8080/",
     "height": 51
    },
    "colab_type": "code",
    "executionInfo": {
     "elapsed": 921,
     "status": "ok",
     "timestamp": 1526630503985,
     "user": {
      "displayName": "Mayank Mishra",
      "photoUrl": "https://lh3.googleusercontent.com/a/default-user=s128",
      "userId": "109554884281440712123"
     },
     "user_tz": -330
    },
    "id": "8W5FD5RKRFjg",
    "outputId": "fb1d8525-71d2-4f3b-fe62-30a543613cb5"
   },
   "outputs": [
    {
     "data": {
      "text/plain": [
       "tensor([[ 0,  0,  0],\n",
       "        [ 0,  0,  0]])"
      ]
     },
     "execution_count": 3,
     "metadata": {
      "tags": []
     },
     "output_type": "execute_result"
    }
   ],
   "source": [
    "y = torch.zeros(2,3, dtype = torch.int64)\n",
    "y"
   ]
  },
  {
   "cell_type": "code",
   "execution_count": 4,
   "metadata": {
    "colab": {
     "autoexec": {
      "startup": false,
      "wait_interval": 0
     },
     "base_uri": "https://localhost:8080/",
     "height": 102
    },
    "colab_type": "code",
    "executionInfo": {
     "elapsed": 947,
     "status": "ok",
     "timestamp": 1526630504975,
     "user": {
      "displayName": "Mayank Mishra",
      "photoUrl": "https://lh3.googleusercontent.com/a/default-user=s128",
      "userId": "109554884281440712123"
     },
     "user_tz": -330
    },
    "id": "Ss22rhZlRFjk",
    "outputId": "bf5d6e4b-41d9-4a0a-9e91-b2ebcc2e54f5"
   },
   "outputs": [
    {
     "data": {
      "text/plain": [
       "tensor([[ 0.9274,  0.1235,  0.8077,  0.3810],\n",
       "        [ 0.8291,  0.4798,  0.8357,  0.3483],\n",
       "        [ 0.5771,  0.9746,  0.1086,  0.2710],\n",
       "        [ 0.4449,  0.6819,  0.3522,  0.6951],\n",
       "        [ 0.5630,  0.7553,  0.0698,  0.8245]])"
      ]
     },
     "execution_count": 4,
     "metadata": {
      "tags": []
     },
     "output_type": "execute_result"
    }
   ],
   "source": [
    "z = torch.rand(5,4)\n",
    "z"
   ]
  },
  {
   "cell_type": "markdown",
   "metadata": {
    "colab_type": "text",
    "id": "-Nyx_bi6RFjo"
   },
   "source": [
    "** Constructing a Tensor directly from data**"
   ]
  },
  {
   "cell_type": "code",
   "execution_count": 5,
   "metadata": {
    "colab": {
     "autoexec": {
      "startup": false,
      "wait_interval": 0
     },
     "base_uri": "https://localhost:8080/",
     "height": 34
    },
    "colab_type": "code",
    "executionInfo": {
     "elapsed": 934,
     "status": "ok",
     "timestamp": 1526630505958,
     "user": {
      "displayName": "Mayank Mishra",
      "photoUrl": "https://lh3.googleusercontent.com/a/default-user=s128",
      "userId": "109554884281440712123"
     },
     "user_tz": -330
    },
    "id": "tLU7sAycRFjo",
    "outputId": "a24f0e8e-4989-4ea0-f287-666816069c44"
   },
   "outputs": [
    {
     "data": {
      "text/plain": [
       "tensor([ 5.5000,  3.0000])"
      ]
     },
     "execution_count": 5,
     "metadata": {
      "tags": []
     },
     "output_type": "execute_result"
    }
   ],
   "source": [
    "x = torch.tensor([5.5, 3])\n",
    "x"
   ]
  },
  {
   "cell_type": "markdown",
   "metadata": {
    "colab_type": "text",
    "id": "yOekzNAERFjr"
   },
   "source": [
    "** \n",
    "or create a tensor form another input tensor tensor. It take properties of that tensor unless they are mentioned explicitely\n",
    "**"
   ]
  },
  {
   "cell_type": "code",
   "execution_count": 6,
   "metadata": {
    "colab": {
     "autoexec": {
      "startup": false,
      "wait_interval": 0
     },
     "base_uri": "https://localhost:8080/",
     "height": 68
    },
    "colab_type": "code",
    "executionInfo": {
     "elapsed": 1140,
     "status": "ok",
     "timestamp": 1526630507162,
     "user": {
      "displayName": "Mayank Mishra",
      "photoUrl": "https://lh3.googleusercontent.com/a/default-user=s128",
      "userId": "109554884281440712123"
     },
     "user_tz": -330
    },
    "id": "o69PNfLhRFjs",
    "outputId": "6ea2287f-c05c-45a6-cbd5-564e388150ec"
   },
   "outputs": [
    {
     "name": "stdout",
     "output_type": "stream",
     "text": [
      "tensor([-1.5921,  0.6024])\n",
      "tensor([ 1,  1], dtype=torch.int32)\n",
      "tensor([ 1.,  1.], dtype=torch.float64)\n"
     ]
    }
   ],
   "source": [
    "y = torch.randn_like(x)\n",
    "z = torch.ones_like(x, dtype = torch.int32)\n",
    "m = torch.ones_like(y, dtype = torch.double)\n",
    "print(y)\n",
    "print(z)\n",
    "print(m)"
   ]
  },
  {
   "cell_type": "code",
   "execution_count": 7,
   "metadata": {
    "colab": {
     "autoexec": {
      "startup": false,
      "wait_interval": 0
     },
     "base_uri": "https://localhost:8080/",
     "height": 102
    },
    "colab_type": "code",
    "executionInfo": {
     "elapsed": 925,
     "status": "ok",
     "timestamp": 1526630508141,
     "user": {
      "displayName": "Mayank Mishra",
      "photoUrl": "https://lh3.googleusercontent.com/a/default-user=s128",
      "userId": "109554884281440712123"
     },
     "user_tz": -330
    },
    "id": "TiyeT4NERFjw",
    "outputId": "36f3c1cb-8797-4b22-f3d9-061c8a344b7b"
   },
   "outputs": [
    {
     "name": "stdout",
     "output_type": "stream",
     "text": [
      "tensor([[ 1.,  1.,  1.],\n",
      "        [ 1.,  1.,  1.],\n",
      "        [ 1.,  1.,  1.],\n",
      "        [ 1.,  1.,  1.],\n",
      "        [ 1.,  1.,  1.]], dtype=torch.float64)\n"
     ]
    }
   ],
   "source": [
    "x = x.new_ones(5, 3, dtype=torch.double)      # new_* methods take in sizes\n",
    "print(x)"
   ]
  },
  {
   "cell_type": "code",
   "execution_count": 8,
   "metadata": {
    "colab": {
     "autoexec": {
      "startup": false,
      "wait_interval": 0
     },
     "base_uri": "https://localhost:8080/",
     "height": 34
    },
    "colab_type": "code",
    "executionInfo": {
     "elapsed": 928,
     "status": "ok",
     "timestamp": 1526630509135,
     "user": {
      "displayName": "Mayank Mishra",
      "photoUrl": "https://lh3.googleusercontent.com/a/default-user=s128",
      "userId": "109554884281440712123"
     },
     "user_tz": -330
    },
    "id": "nT72zcuuRFj0",
    "outputId": "cdeb136d-929c-4e77-c20e-996da935e218"
   },
   "outputs": [
    {
     "data": {
      "text/plain": [
       "torch.Size([5, 3])"
      ]
     },
     "execution_count": 8,
     "metadata": {
      "tags": []
     },
     "output_type": "execute_result"
    }
   ],
   "source": [
    "size = x.size()   # this is a tuple so supports all tuple operations\n",
    "size"
   ]
  },
  {
   "cell_type": "code",
   "execution_count": 9,
   "metadata": {
    "colab": {
     "autoexec": {
      "startup": false,
      "wait_interval": 0
     },
     "base_uri": "https://localhost:8080/",
     "height": 34
    },
    "colab_type": "code",
    "executionInfo": {
     "elapsed": 924,
     "status": "ok",
     "timestamp": 1526630510113,
     "user": {
      "displayName": "Mayank Mishra",
      "photoUrl": "https://lh3.googleusercontent.com/a/default-user=s128",
      "userId": "109554884281440712123"
     },
     "user_tz": -330
    },
    "id": "d0ssPRhuRFj3",
    "outputId": "ec43fd1e-00aa-40c2-a7b9-325d1553eb3f"
   },
   "outputs": [
    {
     "data": {
      "text/plain": [
       "torch.Size([5, 3, 1, 2, 3])"
      ]
     },
     "execution_count": 9,
     "metadata": {
      "tags": []
     },
     "output_type": "execute_result"
    }
   ],
   "source": [
    "t1 = (1, 2, 3)\n",
    " \n",
    "summ = size + t1\n",
    "summ"
   ]
  },
  {
   "cell_type": "markdown",
   "metadata": {
    "colab_type": "text",
    "id": "t56TwtdFRFj7"
   },
   "source": [
    "**\n",
    "Doing Maths with Tensors\n",
    "**"
   ]
  },
  {
   "cell_type": "code",
   "execution_count": 10,
   "metadata": {
    "colab": {
     "autoexec": {
      "startup": false,
      "wait_interval": 0
     },
     "base_uri": "https://localhost:8080/",
     "height": 102
    },
    "colab_type": "code",
    "executionInfo": {
     "elapsed": 896,
     "status": "ok",
     "timestamp": 1526630511057,
     "user": {
      "displayName": "Mayank Mishra",
      "photoUrl": "https://lh3.googleusercontent.com/a/default-user=s128",
      "userId": "109554884281440712123"
     },
     "user_tz": -330
    },
    "id": "KlPVDekIRFj8",
    "outputId": "6037f797-8f79-47b3-ff40-644e1e8eca39"
   },
   "outputs": [
    {
     "data": {
      "text/plain": [
       "tensor([[ 0.9601,  0.7718,  0.4931],\n",
       "        [ 0.6171,  0.3201,  0.9414],\n",
       "        [ 0.5830,  0.0858,  0.9556],\n",
       "        [ 0.4622,  0.3555,  0.4825],\n",
       "        [ 0.1041,  0.1525,  0.9043]])"
      ]
     },
     "execution_count": 10,
     "metadata": {
      "tags": []
     },
     "output_type": "execute_result"
    }
   ],
   "source": [
    "x = torch.rand(5,3)\n",
    "x"
   ]
  },
  {
   "cell_type": "code",
   "execution_count": 11,
   "metadata": {
    "colab": {
     "autoexec": {
      "startup": false,
      "wait_interval": 0
     },
     "base_uri": "https://localhost:8080/",
     "height": 102
    },
    "colab_type": "code",
    "executionInfo": {
     "elapsed": 908,
     "status": "ok",
     "timestamp": 1526630512007,
     "user": {
      "displayName": "Mayank Mishra",
      "photoUrl": "https://lh3.googleusercontent.com/a/default-user=s128",
      "userId": "109554884281440712123"
     },
     "user_tz": -330
    },
    "id": "-pQWjNVsRFkB",
    "outputId": "2aad71a1-5a6d-4e6f-a798-a883c5c95321"
   },
   "outputs": [
    {
     "data": {
      "text/plain": [
       "tensor([[ 0.5154,  0.1156,  0.9929],\n",
       "        [ 0.3386,  0.6826,  0.3458],\n",
       "        [ 0.6367,  0.7293,  0.3913],\n",
       "        [ 0.4313,  0.4651,  0.7150],\n",
       "        [ 0.3920,  0.7750,  0.8844]])"
      ]
     },
     "execution_count": 11,
     "metadata": {
      "tags": []
     },
     "output_type": "execute_result"
    }
   ],
   "source": [
    "y = torch.rand(5,3)\n",
    "y"
   ]
  },
  {
   "cell_type": "code",
   "execution_count": 12,
   "metadata": {
    "colab": {
     "autoexec": {
      "startup": false,
      "wait_interval": 0
     },
     "base_uri": "https://localhost:8080/",
     "height": 102
    },
    "colab_type": "code",
    "executionInfo": {
     "elapsed": 884,
     "status": "ok",
     "timestamp": 1526630512951,
     "user": {
      "displayName": "Mayank Mishra",
      "photoUrl": "https://lh3.googleusercontent.com/a/default-user=s128",
      "userId": "109554884281440712123"
     },
     "user_tz": -330
    },
    "id": "yP3Gn_DSRFkF",
    "outputId": "62aebcfc-573e-4305-9b81-e417cfef8284"
   },
   "outputs": [
    {
     "name": "stdout",
     "output_type": "stream",
     "text": [
      "tensor([[ 1.4755,  0.8874,  1.4859],\n",
      "        [ 0.9556,  1.0027,  1.2872],\n",
      "        [ 1.2198,  0.8151,  1.3469],\n",
      "        [ 0.8935,  0.8206,  1.1974],\n",
      "        [ 0.4960,  0.9275,  1.7887]])\n"
     ]
    }
   ],
   "source": [
    "print(x + y)"
   ]
  },
  {
   "cell_type": "code",
   "execution_count": 13,
   "metadata": {
    "colab": {
     "autoexec": {
      "startup": false,
      "wait_interval": 0
     },
     "base_uri": "https://localhost:8080/",
     "height": 102
    },
    "colab_type": "code",
    "executionInfo": {
     "elapsed": 1213,
     "status": "ok",
     "timestamp": 1526630514206,
     "user": {
      "displayName": "Mayank Mishra",
      "photoUrl": "https://lh3.googleusercontent.com/a/default-user=s128",
      "userId": "109554884281440712123"
     },
     "user_tz": -330
    },
    "id": "0ZG5KW9MRFkM",
    "outputId": "eae00a04-e21a-4fe7-fc3f-511909d15c02"
   },
   "outputs": [
    {
     "data": {
      "text/plain": [
       "tensor([[ 1.4755,  0.8874,  1.4859],\n",
       "        [ 0.9556,  1.0027,  1.2872],\n",
       "        [ 1.2198,  0.8151,  1.3469],\n",
       "        [ 0.8935,  0.8206,  1.1974],\n",
       "        [ 0.4960,  0.9275,  1.7887]])"
      ]
     },
     "execution_count": 13,
     "metadata": {
      "tags": []
     },
     "output_type": "execute_result"
    }
   ],
   "source": [
    "addxy = torch.empty(5,3)\n",
    "torch.add(x, y, out = addxy) # Assigns the output directly to tensor object "
   ]
  },
  {
   "cell_type": "code",
   "execution_count": 14,
   "metadata": {
    "colab": {
     "autoexec": {
      "startup": false,
      "wait_interval": 0
     },
     "base_uri": "https://localhost:8080/",
     "height": 102
    },
    "colab_type": "code",
    "executionInfo": {
     "elapsed": 900,
     "status": "ok",
     "timestamp": 1526630515169,
     "user": {
      "displayName": "Mayank Mishra",
      "photoUrl": "https://lh3.googleusercontent.com/a/default-user=s128",
      "userId": "109554884281440712123"
     },
     "user_tz": -330
    },
    "id": "uQWaeIawRFkO",
    "outputId": "0b4ee3ed-3a2b-4a2e-e8db-6b692369e3ab"
   },
   "outputs": [
    {
     "data": {
      "text/plain": [
       "tensor([[ 1.4755,  0.8874,  1.4859],\n",
       "        [ 0.9556,  1.0027,  1.2872],\n",
       "        [ 1.2198,  0.8151,  1.3469],\n",
       "        [ 0.8935,  0.8206,  1.1974],\n",
       "        [ 0.4960,  0.9275,  1.7887]])"
      ]
     },
     "execution_count": 14,
     "metadata": {
      "tags": []
     },
     "output_type": "execute_result"
    }
   ],
   "source": [
    "addxy"
   ]
  },
  {
   "cell_type": "markdown",
   "metadata": {
    "colab_type": "text",
    "id": "PPv6K4WSRFkS"
   },
   "source": [
    "**\n",
    "Any operation that mutates a tensor in-place is post-fixed with an _ . For example: x.copy_(y), x.t_(), will change x.\n",
    "**"
   ]
  },
  {
   "cell_type": "code",
   "execution_count": 15,
   "metadata": {
    "colab": {
     "autoexec": {
      "startup": false,
      "wait_interval": 0
     },
     "base_uri": "https://localhost:8080/",
     "height": 102
    },
    "colab_type": "code",
    "executionInfo": {
     "elapsed": 911,
     "status": "ok",
     "timestamp": 1526630516139,
     "user": {
      "displayName": "Mayank Mishra",
      "photoUrl": "https://lh3.googleusercontent.com/a/default-user=s128",
      "userId": "109554884281440712123"
     },
     "user_tz": -330
    },
    "id": "V_2Xw8PFRFkT",
    "outputId": "c4faef94-6ef9-4d65-aeff-6f49b54d97c5"
   },
   "outputs": [
    {
     "data": {
      "text/plain": [
       "tensor([[ 1.4755,  0.8874,  1.4859],\n",
       "        [ 0.9556,  1.0027,  1.2872],\n",
       "        [ 1.2198,  0.8151,  1.3469],\n",
       "        [ 0.8935,  0.8206,  1.1974],\n",
       "        [ 0.4960,  0.9275,  1.7887]])"
      ]
     },
     "execution_count": 15,
     "metadata": {
      "tags": []
     },
     "output_type": "execute_result"
    }
   ],
   "source": [
    "#Any tensor to change in place the value postfix the method name with '_'\n",
    "\n",
    "y.add_(x)"
   ]
  },
  {
   "cell_type": "code",
   "execution_count": 16,
   "metadata": {
    "colab": {
     "autoexec": {
      "startup": false,
      "wait_interval": 0
     },
     "base_uri": "https://localhost:8080/",
     "height": 102
    },
    "colab_type": "code",
    "executionInfo": {
     "elapsed": 912,
     "status": "ok",
     "timestamp": 1526630517091,
     "user": {
      "displayName": "Mayank Mishra",
      "photoUrl": "https://lh3.googleusercontent.com/a/default-user=s128",
      "userId": "109554884281440712123"
     },
     "user_tz": -330
    },
    "id": "qXuoATQkRFkX",
    "outputId": "fd3d81fc-7b96-48d1-f413-6741ea414a78"
   },
   "outputs": [
    {
     "data": {
      "text/plain": [
       "tensor([[ 1.4755,  0.8874,  1.4859],\n",
       "        [ 0.9556,  1.0027,  1.2872],\n",
       "        [ 1.2198,  0.8151,  1.3469],\n",
       "        [ 0.8935,  0.8206,  1.1974],\n",
       "        [ 0.4960,  0.9275,  1.7887]])"
      ]
     },
     "execution_count": 16,
     "metadata": {
      "tags": []
     },
     "output_type": "execute_result"
    }
   ],
   "source": [
    "y"
   ]
  },
  {
   "cell_type": "code",
   "execution_count": 17,
   "metadata": {
    "colab": {
     "autoexec": {
      "startup": false,
      "wait_interval": 0
     },
     "base_uri": "https://localhost:8080/",
     "height": 85
    },
    "colab_type": "code",
    "executionInfo": {
     "elapsed": 890,
     "status": "ok",
     "timestamp": 1526630518030,
     "user": {
      "displayName": "Mayank Mishra",
      "photoUrl": "https://lh3.googleusercontent.com/a/default-user=s128",
      "userId": "109554884281440712123"
     },
     "user_tz": -330
    },
    "id": "zHAHY42PRFkb",
    "outputId": "8100ac3a-8b01-419c-ae9e-6d5b79f300c8"
   },
   "outputs": [
    {
     "data": {
      "text/plain": [
       "tensor([[ 1.2260,  0.3180,  1.7270, -1.7345],\n",
       "        [-0.1527, -0.2463, -1.3266,  0.2566],\n",
       "        [ 0.0526,  0.3889, -0.4260,  0.4987],\n",
       "        [-0.7883, -0.0256, -1.7268,  0.1150]])"
      ]
     },
     "execution_count": 17,
     "metadata": {
      "tags": []
     },
     "output_type": "execute_result"
    }
   ],
   "source": [
    "x = torch.randn(4,4)\n",
    "x"
   ]
  },
  {
   "cell_type": "markdown",
   "metadata": {
    "colab_type": "text",
    "id": "aGoXQ00NRFke"
   },
   "source": [
    "**\n",
    "Resizing: If you want to resize/reshape tensor, you can use torch.view:\n",
    "**"
   ]
  },
  {
   "cell_type": "code",
   "execution_count": 18,
   "metadata": {
    "colab": {
     "autoexec": {
      "startup": false,
      "wait_interval": 0
     },
     "base_uri": "https://localhost:8080/",
     "height": 68
    },
    "colab_type": "code",
    "executionInfo": {
     "elapsed": 899,
     "status": "ok",
     "timestamp": 1526630518976,
     "user": {
      "displayName": "Mayank Mishra",
      "photoUrl": "https://lh3.googleusercontent.com/a/default-user=s128",
      "userId": "109554884281440712123"
     },
     "user_tz": -330
    },
    "id": "0rCljE1gRFke",
    "outputId": "21384f74-603d-4c97-c0c5-de6d61956d44"
   },
   "outputs": [
    {
     "data": {
      "text/plain": [
       "tensor([ 1.2260,  0.3180,  1.7270, -1.7345, -0.1527, -0.2463, -1.3266,\n",
       "         0.2566,  0.0526,  0.3889, -0.4260,  0.4987, -0.7883, -0.0256,\n",
       "        -1.7268,  0.1150])"
      ]
     },
     "execution_count": 18,
     "metadata": {
      "tags": []
     },
     "output_type": "execute_result"
    }
   ],
   "source": [
    "y = x.view(16)\n",
    "y"
   ]
  },
  {
   "cell_type": "code",
   "execution_count": 19,
   "metadata": {
    "colab": {
     "autoexec": {
      "startup": false,
      "wait_interval": 0
     },
     "base_uri": "https://localhost:8080/",
     "height": 85
    },
    "colab_type": "code",
    "executionInfo": {
     "elapsed": 840,
     "status": "ok",
     "timestamp": 1526630519866,
     "user": {
      "displayName": "Mayank Mishra",
      "photoUrl": "https://lh3.googleusercontent.com/a/default-user=s128",
      "userId": "109554884281440712123"
     },
     "user_tz": -330
    },
    "id": "Cwe8Zms_RFkg",
    "outputId": "7c98643e-9cea-4c7b-cc73-82e441ef8dfe"
   },
   "outputs": [
    {
     "data": {
      "text/plain": [
       "tensor([[ 1.2260,  0.3180,  1.7270, -1.7345, -0.1527, -0.2463, -1.3266,\n",
       "          0.2566],\n",
       "        [ 0.0526,  0.3889, -0.4260,  0.4987, -0.7883, -0.0256, -1.7268,\n",
       "          0.1150]])"
      ]
     },
     "execution_count": 19,
     "metadata": {
      "tags": []
     },
     "output_type": "execute_result"
    }
   ],
   "source": [
    "z = x.view(-1, 8)\n",
    "z"
   ]
  },
  {
   "cell_type": "markdown",
   "metadata": {
    "colab_type": "text",
    "id": "BruJTkyURFkj"
   },
   "source": [
    "# NumPy Bridge\n",
    "**\n",
    "Converting a Torch Tensor to a NumPy array and vice versa is a breeze.\n",
    "**\n",
    "\n",
    "The Torch Tensor and NumPy array will share their underlying memory locations, and changing one will change the other."
   ]
  },
  {
   "cell_type": "code",
   "execution_count": 20,
   "metadata": {
    "colab": {
     "autoexec": {
      "startup": false,
      "wait_interval": 0
     },
     "base_uri": "https://localhost:8080/",
     "height": 34
    },
    "colab_type": "code",
    "executionInfo": {
     "elapsed": 922,
     "status": "ok",
     "timestamp": 1526630520829,
     "user": {
      "displayName": "Mayank Mishra",
      "photoUrl": "https://lh3.googleusercontent.com/a/default-user=s128",
      "userId": "109554884281440712123"
     },
     "user_tz": -330
    },
    "id": "pIm4fEJhRFkj",
    "outputId": "3a75a40f-bd61-427a-c3c6-899795f400cf"
   },
   "outputs": [
    {
     "data": {
      "text/plain": [
       "tensor([ 1.,  1.,  1.,  1.,  1.])"
      ]
     },
     "execution_count": 20,
     "metadata": {
      "tags": []
     },
     "output_type": "execute_result"
    }
   ],
   "source": [
    "a = torch.ones(5)\n",
    "a"
   ]
  },
  {
   "cell_type": "code",
   "execution_count": 21,
   "metadata": {
    "colab": {
     "autoexec": {
      "startup": false,
      "wait_interval": 0
     },
     "base_uri": "https://localhost:8080/",
     "height": 68
    },
    "colab_type": "code",
    "executionInfo": {
     "elapsed": 917,
     "status": "ok",
     "timestamp": 1526630521804,
     "user": {
      "displayName": "Mayank Mishra",
      "photoUrl": "https://lh3.googleusercontent.com/a/default-user=s128",
      "userId": "109554884281440712123"
     },
     "user_tz": -330
    },
    "id": "w-TjNHCzRFkn",
    "outputId": "0d64b96a-d1b4-4f93-86d1-43c2aeb8898a"
   },
   "outputs": [
    {
     "name": "stdout",
     "output_type": "stream",
     "text": [
      "[1. 1. 1. 1. 1.]\n",
      "<class 'numpy.ndarray'>\n"
     ]
    },
    {
     "data": {
      "text/plain": [
       "array([1., 1., 1., 1., 1.], dtype=float32)"
      ]
     },
     "execution_count": 21,
     "metadata": {
      "tags": []
     },
     "output_type": "execute_result"
    }
   ],
   "source": [
    "b = a.numpy()\n",
    "print(b)\n",
    "print(type(b))\n",
    "b"
   ]
  },
  {
   "cell_type": "code",
   "execution_count": 22,
   "metadata": {
    "colab": {
     "autoexec": {
      "startup": false,
      "wait_interval": 0
     },
     "base_uri": "https://localhost:8080/",
     "height": 51
    },
    "colab_type": "code",
    "executionInfo": {
     "elapsed": 904,
     "status": "ok",
     "timestamp": 1526630522753,
     "user": {
      "displayName": "Mayank Mishra",
      "photoUrl": "https://lh3.googleusercontent.com/a/default-user=s128",
      "userId": "109554884281440712123"
     },
     "user_tz": -330
    },
    "id": "XReWAid5RFkp",
    "outputId": "bfc50b5a-d695-490f-f2a3-74715ad6bc5b"
   },
   "outputs": [
    {
     "name": "stdout",
     "output_type": "stream",
     "text": [
      "tensor([ 2.,  2.,  2.,  2.,  2.])\n",
      "[2. 2. 2. 2. 2.]\n"
     ]
    }
   ],
   "source": [
    "a.add_(1)\n",
    "print(a)\n",
    "print(b)"
   ]
  },
  {
   "cell_type": "markdown",
   "metadata": {
    "colab_type": "text",
    "id": "_u_2DGeaRFkt"
   },
   "source": [
    "**Converting Numpy Array to Tensor Torch**"
   ]
  },
  {
   "cell_type": "code",
   "execution_count": 23,
   "metadata": {
    "colab": {
     "autoexec": {
      "startup": false,
      "wait_interval": 0
     },
     "base_uri": "https://localhost:8080/",
     "height": 34
    },
    "colab_type": "code",
    "executionInfo": {
     "elapsed": 906,
     "status": "ok",
     "timestamp": 1526630523704,
     "user": {
      "displayName": "Mayank Mishra",
      "photoUrl": "https://lh3.googleusercontent.com/a/default-user=s128",
      "userId": "109554884281440712123"
     },
     "user_tz": -330
    },
    "id": "nrCvhLt3RFkt",
    "outputId": "2b9bbc61-82ad-4e24-e292-0e15c14d5851"
   },
   "outputs": [
    {
     "data": {
      "text/plain": [
       "array([1., 1., 1., 1., 1.])"
      ]
     },
     "execution_count": 23,
     "metadata": {
      "tags": []
     },
     "output_type": "execute_result"
    }
   ],
   "source": [
    "import numpy as np\n",
    "\n",
    "a = np.ones(5)\n",
    "a"
   ]
  },
  {
   "cell_type": "code",
   "execution_count": 24,
   "metadata": {
    "colab": {
     "autoexec": {
      "startup": false,
      "wait_interval": 0
     },
     "base_uri": "https://localhost:8080/",
     "height": 34
    },
    "colab_type": "code",
    "executionInfo": {
     "elapsed": 938,
     "status": "ok",
     "timestamp": 1526630524717,
     "user": {
      "displayName": "Mayank Mishra",
      "photoUrl": "https://lh3.googleusercontent.com/a/default-user=s128",
      "userId": "109554884281440712123"
     },
     "user_tz": -330
    },
    "id": "WZQaZ9rFRFkx",
    "outputId": "60171438-bde7-4626-b28d-e94fe9550269"
   },
   "outputs": [
    {
     "data": {
      "text/plain": [
       "tensor([ 1.,  1.,  1.,  1.,  1.], dtype=torch.float64)"
      ]
     },
     "execution_count": 24,
     "metadata": {
      "tags": []
     },
     "output_type": "execute_result"
    }
   ],
   "source": [
    "b = torch.from_numpy(a)\n",
    "b"
   ]
  },
  {
   "cell_type": "code",
   "execution_count": 25,
   "metadata": {
    "colab": {
     "autoexec": {
      "startup": false,
      "wait_interval": 0
     },
     "base_uri": "https://localhost:8080/",
     "height": 51
    },
    "colab_type": "code",
    "executionInfo": {
     "elapsed": 901,
     "status": "ok",
     "timestamp": 1526630525664,
     "user": {
      "displayName": "Mayank Mishra",
      "photoUrl": "https://lh3.googleusercontent.com/a/default-user=s128",
      "userId": "109554884281440712123"
     },
     "user_tz": -330
    },
    "id": "_f-ykZsBRFk1",
    "outputId": "c349f2f4-f767-461c-a98b-6d3c3e01636e"
   },
   "outputs": [
    {
     "name": "stdout",
     "output_type": "stream",
     "text": [
      "[4. 4. 4. 4. 4.]\n",
      "tensor([ 4.,  4.,  4.,  4.,  4.], dtype=torch.float64)\n"
     ]
    }
   ],
   "source": [
    "np.add(a, 3, out = a)\n",
    "print(a)\n",
    "print(b)"
   ]
  },
  {
   "cell_type": "markdown",
   "metadata": {
    "colab_type": "text",
    "id": "ifWWVohQRFk6"
   },
   "source": [
    "# CUDA Tensors\n",
    "**Tensors can be moved onto any device using the .to method.**"
   ]
  },
  {
   "cell_type": "code",
   "execution_count": 26,
   "metadata": {
    "colab": {
     "autoexec": {
      "startup": false,
      "wait_interval": 0
     },
     "base_uri": "https://localhost:8080/",
     "height": 153
    },
    "colab_type": "code",
    "executionInfo": {
     "elapsed": 4732,
     "status": "ok",
     "timestamp": 1526630530438,
     "user": {
      "displayName": "Mayank Mishra",
      "photoUrl": "https://lh3.googleusercontent.com/a/default-user=s128",
      "userId": "109554884281440712123"
     },
     "user_tz": -330
    },
    "id": "tMgI-DjoRFk6",
    "outputId": "bfb9110a-3bba-4833-c8fe-1c395e3f188a"
   },
   "outputs": [
    {
     "name": "stdout",
     "output_type": "stream",
     "text": [
      "tensor([[ 2.2260,  1.3180,  2.7270, -0.7345],\n",
      "        [ 0.8473,  0.7537, -0.3266,  1.2566],\n",
      "        [ 1.0526,  1.3889,  0.5740,  1.4987],\n",
      "        [ 0.2117,  0.9744, -0.7268,  1.1150]], device='cuda:0')\n",
      "tensor([[ 2.2260,  1.3180,  2.7270, -0.7345],\n",
      "        [ 0.8473,  0.7537, -0.3266,  1.2566],\n",
      "        [ 1.0526,  1.3889,  0.5740,  1.4987],\n",
      "        [ 0.2117,  0.9744, -0.7268,  1.1150]], dtype=torch.float64)\n"
     ]
    }
   ],
   "source": [
    "# let us run this cell only if CUDA is available\n",
    "# We will use ``torch.device`` objects to move tensors in and out of GPU\n",
    "if torch.cuda.is_available():\n",
    "    device = torch.device(\"cuda\")          # a CUDA device object\n",
    "    y = torch.ones_like(x, device=device)  # directly create a tensor on GPU\n",
    "    x = x.to(device)                       # or just use strings ``.to(\"cuda\")``\n",
    "    z = x + y\n",
    "    print(z)\n",
    "    print(z.to(\"cpu\", torch.double))       # ``.to`` can also change dtype together!"
   ]
  }
 ],
 "metadata": {
  "accelerator": "GPU",
  "colab": {
   "default_view": {},
   "name": "What is PyTorch??.ipynb",
   "provenance": [],
   "version": "0.3.2",
   "views": {}
  },
  "kernelspec": {
   "display_name": "Python 3",
   "language": "python",
   "name": "python3"
  },
  "language_info": {
   "codemirror_mode": {
    "name": "ipython",
    "version": 3
   },
   "file_extension": ".py",
   "mimetype": "text/x-python",
   "name": "python",
   "nbconvert_exporter": "python",
   "pygments_lexer": "ipython3",
   "version": "3.6.4"
  }
 },
 "nbformat": 4,
 "nbformat_minor": 2
}
