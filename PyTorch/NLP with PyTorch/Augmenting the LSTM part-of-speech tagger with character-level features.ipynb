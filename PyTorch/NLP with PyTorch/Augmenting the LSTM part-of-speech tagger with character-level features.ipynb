{
 "cells": [
  {
   "cell_type": "markdown",
   "metadata": {},
   "source": [
    "**Importing Libraries**"
   ]
  },
  {
   "cell_type": "code",
   "execution_count": 2,
   "metadata": {},
   "outputs": [
    {
     "data": {
      "text/plain": [
       "<torch._C.Generator at 0x7fb83047c690>"
      ]
     },
     "execution_count": 2,
     "metadata": {},
     "output_type": "execute_result"
    }
   ],
   "source": [
    "import torch\n",
    "import torch.nn as nn\n",
    "import torch.nn.functional as F\n",
    "import torch.optim as optim\n",
    "import numpy as np\n",
    "from time import time\n",
    "\n",
    "torch.manual_seed(1)"
   ]
  },
  {
   "cell_type": "markdown",
   "metadata": {},
   "source": [
    "**Preparing Data**"
   ]
  },
  {
   "cell_type": "code",
   "execution_count": 3,
   "metadata": {},
   "outputs": [],
   "source": [
    "def prepare_sequence(seq, to_ix):\n",
    "    idsx = [to_ix[w] for w in seq]\n",
    "    return torch.tensor(idsx, dtype = torch.long)"
   ]
  },
  {
   "cell_type": "code",
   "execution_count": 5,
   "metadata": {},
   "outputs": [
    {
     "name": "stdout",
     "output_type": "stream",
     "text": [
      "----------------------------------------------------------------------------------------------------\n",
      "WORD TO IX : \n",
      "{'The': 0, 'dog': 1, 'ate': 2, 'the': 3, 'apple': 4, 'Everybody': 5, 'read': 6, 'book': 7}\n",
      "----------------------------------------------------------------------------------------------------\n",
      "CHAR TO IX : \n",
      "{'T': 0, 'h': 1, 'e': 2, 'd': 3, 'o': 4, 'g': 5, 'a': 6, 't': 7, 'p': 8, 'l': 9, 'E': 10, 'v': 11, 'r': 12, 'y': 13, 'b': 14, 'k': 15}\n",
      "----------------------------------------------------------------------------------------------------\n",
      "TAG TO IX : \n",
      "{'DET': 0, 'NN': 1, 'V': 2}\n",
      "----------------------------------------------------------------------------------------------------\n",
      "IX TO TAG : \n",
      "{0: 'DET', 1: 'NN', 2: 'V'}\n",
      "----------------------------------------------------------------------------------------------------\n"
     ]
    }
   ],
   "source": [
    "training_data = [\n",
    "    ('The dog ate the apple'.split(), ['DET', 'NN', 'V', 'DET', 'NN']),\n",
    "    ('Everybody read the book'.split(), ['NN', 'V', 'DET', 'NN'])\n",
    "]\n",
    "\n",
    "word_to_ix = {}\n",
    "\n",
    "# Making word dictionary\n",
    "for sent, tag in training_data:\n",
    "    for word in sent:\n",
    "        if word not in word_to_ix:\n",
    "            word_to_ix[word] = len(word_to_ix)\n",
    "            \n",
    "print('-' * 100)\n",
    "print('WORD TO IX : ')\n",
    "print(word_to_ix)\n",
    "\n",
    "char_to_ix = {}\n",
    "\n",
    "# Making char dictionary\n",
    "for sent, tag in training_data:\n",
    "    for word in sent:\n",
    "        for char in word:\n",
    "            if char not in char_to_ix:\n",
    "                char_to_ix[char] = len(char_to_ix)\n",
    "            \n",
    "print('-' * 100)\n",
    "print('CHAR TO IX : ')            \n",
    "print(char_to_ix)\n",
    "\n",
    "# Making tag dictionary\n",
    "tag_to_ix = {'DET' : 0, 'NN' : 1, 'V' : 2}\n",
    "            \n",
    "print('-' * 100)\n",
    "print('TAG TO IX : ')\n",
    "print(tag_to_ix)\n",
    "\n",
    "ix_to_tag = {0 : 'DET', 1 : 'NN', 2 : 'V'}\n",
    "            \n",
    "print('-' * 100)\n",
    "print('IX TO TAG : ')\n",
    "print(ix_to_tag)\n",
    "print('-' * 100)"
   ]
  },
  {
   "cell_type": "code",
   "execution_count": 6,
   "metadata": {},
   "outputs": [],
   "source": [
    "def prepare_both_sequences(seq, word_to_ix, char_to_ix):\n",
    "    chars = [prepare_sequence(w, char_to_ix) for w in seq]\n",
    "    words = [prepare_sequence(seq, word_to_ix)]\n",
    "    return chars, words"
   ]
  },
  {
   "cell_type": "code",
   "execution_count": 7,
   "metadata": {},
   "outputs": [],
   "source": [
    "EMBEDDING_DIM = 6\n",
    "HIDDEN_DIM = 6\n",
    "CHAR_EMBEDDING = 3\n",
    "CHAR_LEVEL_REPRESENTATION_DIM = 3"
   ]
  },
  {
   "cell_type": "markdown",
   "metadata": {},
   "source": [
    "**Defining Model**"
   ]
  },
  {
   "cell_type": "code",
   "execution_count": null,
   "metadata": {},
   "outputs": [],
   "source": [
    "class LSTMCharLevelAugmented(nn.Module):\n",
    "    '''\n",
    "    Augmented model, takes both sequence of words and char to predict tag.\n",
    "    Characters are embedded and then get their own representation for each WORD.\n",
    "    It is this representation that is merged with word embeddings and then fed to the sequence\n",
    "    LSTM which decodes the tags.\n",
    "    ARGS :\n",
    "        - word_embedding_dim : embedding dimension for word\n",
    "        - char_embedding_dim : embedding dimension for char\n",
    "        - hidden_dim : hidden dimension for POS tag score LSTM\n",
    "        - hidden_char_dim : hidden dimension for char level representation LSTM\n",
    "        - vocab_size : word vocabulary size\n",
    "        - charset_size : char vocabulary size\n",
    "        - target_size : target set size\n",
    "    '''\n",
    "    def __init(self, word_embedding_dim, char_embedding_dim, hidden_dim,\n",
    "              hidden_char_dim, vocab_size, charset_size, target_size):\n",
    "        super(LSTMCharLevelAugmented, self).__init__()\n",
    "        "
   ]
  }
 ],
 "metadata": {
  "kernelspec": {
   "display_name": "Python 3",
   "language": "python",
   "name": "python3"
  },
  "language_info": {
   "codemirror_mode": {
    "name": "ipython",
    "version": 3
   },
   "file_extension": ".py",
   "mimetype": "text/x-python",
   "name": "python",
   "nbconvert_exporter": "python",
   "pygments_lexer": "ipython3",
   "version": "3.6.4"
  }
 },
 "nbformat": 4,
 "nbformat_minor": 2
}
