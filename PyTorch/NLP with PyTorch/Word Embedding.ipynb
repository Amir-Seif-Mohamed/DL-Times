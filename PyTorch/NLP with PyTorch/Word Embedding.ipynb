{
 "cells": [
  {
   "cell_type": "code",
   "execution_count": 1,
   "metadata": {},
   "outputs": [
    {
     "data": {
      "text/plain": [
       "<torch._C.Generator at 0x7f578601d6f0>"
      ]
     },
     "execution_count": 1,
     "metadata": {},
     "output_type": "execute_result"
    }
   ],
   "source": [
    "import torch\n",
    "import torch.nn as nn\n",
    "import torch.nn.functional as F\n",
    "import torch.optim as optim\n",
    "from torch.autograd import Variable\n",
    "\n",
    "torch.manual_seed(1)"
   ]
  },
  {
   "cell_type": "code",
   "execution_count": 2,
   "metadata": {},
   "outputs": [
    {
     "name": "stdout",
     "output_type": "stream",
     "text": [
      "Printing Word Embedding for \"hello\" : tensor([[ 0.6614,  0.2669,  0.0617,  0.6213, -0.4519]])\n"
     ]
    }
   ],
   "source": [
    "word_to_ix = {'hello' : 0, 'world' : 1}\n",
    "embedds = nn.Embedding(2, 5)\n",
    "lookup_tensor = torch.tensor([word_to_ix['hello']], dtype = torch.long)\n",
    "hello_embedd = embedds(lookup_tensor)\n",
    "print(\"Printing Word Embedding for \\\"hello\\\" : {}\".format(hello_embedd))"
   ]
  },
  {
   "cell_type": "code",
   "execution_count": 3,
   "metadata": {},
   "outputs": [
    {
     "name": "stdout",
     "output_type": "stream",
     "text": [
      "First three trigrams :\n",
      "[(['When', 'forty'], 'winters'), (['forty', 'winters'], 'shall'), (['winters', 'shall'], 'besiege')]\n",
      "--------------------------------------------------------------------------------\n",
      "a : 0\n",
      "thy : 1\n",
      "be : 2\n",
      "new : 3\n",
      "all : 4\n",
      "in : 5\n",
      "thou : 6\n",
      "it : 7\n",
      "field, : 8\n",
      "own : 9\n",
      "When : 10\n",
      "treasure : 11\n",
      "Thy : 12\n",
      "were : 13\n",
      "where : 14\n",
      "to : 15\n",
      "say, : 16\n",
      "'This : 17\n",
      "praise. : 18\n",
      "cold. : 19\n",
      "answer : 20\n",
      "worth : 21\n",
      "deep : 22\n",
      "by : 23\n",
      "mine : 24\n",
      "forty : 25\n",
      "Then : 26\n",
      "count, : 27\n",
      "child : 28\n",
      "shall : 29\n",
      "and : 30\n",
      "of : 31\n",
      "days; : 32\n",
      "thine : 33\n",
      "Will : 34\n",
      "being : 35\n",
      "within : 36\n",
      "deserv'd : 37\n",
      "weed : 38\n",
      "his : 39\n",
      "To : 40\n",
      "How : 41\n",
      "thriftless : 42\n",
      "use, : 43\n",
      "eyes, : 44\n",
      "sunken : 45\n",
      "beauty's : 46\n",
      "youth's : 47\n",
      "This : 48\n",
      "asked, : 49\n",
      "the : 50\n",
      "thine! : 51\n",
      "made : 52\n",
      "praise : 53\n",
      "And : 54\n",
      "trenches : 55\n",
      "feel'st : 56\n",
      "proud : 57\n",
      "excuse,' : 58\n",
      "all-eating : 59\n",
      "beauty : 60\n",
      "sum : 61\n",
      "totter'd : 62\n",
      "gazed : 63\n",
      "dig : 64\n",
      "art : 65\n",
      "Shall : 66\n",
      "warm : 67\n",
      "much : 68\n",
      "so : 69\n",
      "If : 70\n",
      "held: : 71\n",
      "more : 72\n",
      "see : 73\n",
      "brow, : 74\n",
      "now, : 75\n",
      "lusty : 76\n",
      "winters : 77\n",
      "when : 78\n",
      "an : 79\n",
      "on : 80\n",
      "Were : 81\n",
      "besiege : 82\n",
      "blood : 83\n",
      "my : 84\n",
      "old, : 85\n",
      "livery : 86\n",
      "fair : 87\n",
      "couldst : 88\n",
      "old : 89\n",
      "Where : 90\n",
      "shame, : 91\n",
      "make : 92\n",
      "small : 93\n",
      "lies, : 94\n",
      "succession : 95\n",
      "Proving : 96\n",
      "--------------------------------------------------------------------------------\n"
     ]
    }
   ],
   "source": [
    "CONTEXT_SIZE = 2\n",
    "EMBEDDING_DIM = 10\n",
    "\n",
    "test_sentence =\"\"\"When forty winters shall besiege thy brow,\n",
    "And dig deep trenches in thy beauty's field,\n",
    "Thy youth's proud livery so gazed on now,\n",
    "Will be a totter'd weed of small worth held:\n",
    "Then being asked, where all thy beauty lies,\n",
    "Where all the treasure of thy lusty days;\n",
    "To say, within thine own deep sunken eyes,\n",
    "Were an all-eating shame, and thriftless praise.\n",
    "How much more praise deserv'd thy beauty's use,\n",
    "If thou couldst answer 'This fair child of mine\n",
    "Shall sum my count, and make my old excuse,'\n",
    "Proving his beauty by succession thine!\n",
    "This were to be new made when thou art old,\n",
    "And see thy blood warm when thou feel'st it cold.\"\"\".split()\n",
    "\n",
    "trigrams = [([test_sentence[i], test_sentence[i+1]],\n",
    "             test_sentence[i+2]) \n",
    "            for i in range(len(test_sentence) - 2)]\n",
    "\n",
    "print(\"First three trigrams :\\n{}\".format(trigrams[:3]))\n",
    "print(\"-\" * 80)\n",
    "\n",
    "vocab = set(test_sentence)\n",
    "word_to_ix = {word : i for i, word in enumerate(vocab)}\n",
    "\n",
    "for key, val in word_to_ix.items():\n",
    "    print(\"{} : {}\".format(key, val))\n",
    "print(\"-\" * 80)"
   ]
  },
  {
   "cell_type": "code",
   "execution_count": 4,
   "metadata": {},
   "outputs": [],
   "source": [
    "class NGramLanguageModeler(nn.Module):\n",
    "    def __init__(self, vocab_size, embedd_size, context_size):\n",
    "        super(NGramLanguageModeler, self).__init__()\n",
    "        self.embeddings = nn.Embedding(vocab_size, embedd_size)\n",
    "        self.lin1 = nn.Linear(context_size * embedd_size, 128)\n",
    "        self.lin2 = nn.Linear(128, vocab_size)\n",
    "        \n",
    "    def forward(self, inputs):\n",
    "        embedds = self.embeddings(inputs).view(1, -1)\n",
    "        out = F.relu(self.lin1(embedds))\n",
    "        out = self.lin2(out)\n",
    "        log_probab = F.log_softmax(out, dim = 1)\n",
    "        \n",
    "        return log_probab"
   ]
  },
  {
   "cell_type": "code",
   "execution_count": 5,
   "metadata": {},
   "outputs": [
    {
     "name": "stdout",
     "output_type": "stream",
     "text": [
      "[521.2529845237732, 518.6605763435364, 516.0867598056793, 513.5304462909698, 510.9892761707306, 508.463095664978, 505.9510407447815, 503.4524276256561, 500.9663953781128, 498.4916613101959]\n"
     ]
    }
   ],
   "source": [
    "losses = []\n",
    "loss_function = nn.NLLLoss()\n",
    "model = NGramLanguageModeler(vocab_size = len(vocab), embedd_size = EMBEDDING_DIM, context_size = CONTEXT_SIZE)\n",
    "optimizer = optim.SGD(model.parameters(), lr = 0.001)\n",
    "\n",
    "for epoch in range(10):\n",
    "    total_loss = 0\n",
    "    for context, target in trigrams:\n",
    "\n",
    "        # Step 1. Prepare the inputs to be passed to the model (i.e, turn the words\n",
    "        # into integer indices and wrap them in tensors)\n",
    "        context_idxs = torch.tensor([word_to_ix[w] for w in context], dtype=torch.long)\n",
    "\n",
    "        # Step 2. Recall that torch *accumulates* gradients. Before passing in a\n",
    "        # new instance, you need to zero out the gradients from the old\n",
    "        # instance\n",
    "        model.zero_grad()\n",
    "\n",
    "        # Step 3. Run the forward pass, getting log probabilities over next\n",
    "        # words\n",
    "        log_probs = model(context_idxs)\n",
    "\n",
    "        # Step 4. Compute your loss function. (Again, Torch wants the target\n",
    "        # word wrapped in a tensor)\n",
    "        loss = loss_function(log_probs, torch.tensor([word_to_ix[target]], dtype=torch.long))\n",
    "\n",
    "        # Step 5. Do the backward pass and update the gradient\n",
    "        loss.backward()\n",
    "        optimizer.step()\n",
    "\n",
    "        # Get the Python number from a 1-element Tensor by calling tensor.item()\n",
    "        total_loss += loss.item()\n",
    "    losses.append(total_loss)\n",
    "print(losses)  # The loss decreased every iteration over the training data!"
   ]
  },
  {
   "cell_type": "code",
   "execution_count": 6,
   "metadata": {},
   "outputs": [
    {
     "name": "stdout",
     "output_type": "stream",
     "text": [
      "[(['We', 'are', 'to', 'study'], 'about'), (['are', 'about', 'study', 'the'], 'to'), (['about', 'to', 'the', 'idea'], 'study'), (['to', 'study', 'idea', 'of'], 'the'), (['study', 'the', 'of', 'a'], 'idea')]\n"
     ]
    }
   ],
   "source": [
    "CONTEXT_SIZE = 2  # 2 words to the left, 2 to the right\n",
    "\n",
    "raw_text = \"\"\"We are about to study the idea of a computational process.\n",
    "Computational processes are abstract beings that inhabit computers. As they\n",
    "evolve, processes manipulate other abstract things called data. The evolution\n",
    "of a process is directed by a pattern of rules called a program. People create\n",
    "programs to direct processes. In effect, we conjure the spirits of the computer\n",
    "with our spells.\"\"\".split()\n",
    "\n",
    "# By deriving a set from `raw_text`, we deduplicate the array\n",
    "vocab = set(raw_text)\n",
    "vocab_size = len(vocab)\n",
    "\n",
    "word_to_ix = {word : i for i, word in enumerate(vocab)}\n",
    "ix_to_word = {i : word for i, word in enumerate(vocab)}\n",
    "data = []\n",
    "for i in range(2, len(raw_text) - 2):\n",
    "    context = [raw_text[i - 2], raw_text[i - 1],\n",
    "               raw_text[i + 1], raw_text[i + 2]]\n",
    "    target = raw_text[i]\n",
    "    data.append((context, target))\n",
    "print(data[:5])"
   ]
  },
  {
   "cell_type": "code",
   "execution_count": 7,
   "metadata": {},
   "outputs": [],
   "source": [
    "class CBOW(nn.Module):\n",
    "\n",
    "    def __init__(self, vocab_size, embedd_size):\n",
    "        super(CBOW, self).__init__()\n",
    "        self.embedding = nn.Embedding(vocab_size, embedd_size)\n",
    "        self.lin1 = nn.Linear(embedd_size, 128)\n",
    "        self.relu = nn.ReLU()\n",
    "        self.lin2 = nn.Linear(128, vocab_size)\n",
    "        self.activation = nn.LogSoftmax(dim = -1)\n",
    "\n",
    "    def forward(self, inputs):\n",
    "        embedd = sum(self.embedding(inputs)).view(1, -1)\n",
    "        out = self.lin1(embedd)\n",
    "        out = self.relu(out)\n",
    "        out = self.lin2(out)\n",
    "        activation = self.activation(out)\n",
    "        \n",
    "        return out\n",
    "\n",
    "# create your model and train.  here are some functions to help you make\n",
    "# the data ready for use by your module\n",
    "\n",
    "\n",
    "def make_context_vector(context, word_to_ix):\n",
    "    print(context)\n",
    "    idxs = [word_to_ix[w] for w in context]\n",
    "    return torch.tensor(idxs, dtype=torch.long)"
   ]
  },
  {
   "cell_type": "code",
   "execution_count": 8,
   "metadata": {},
   "outputs": [
    {
     "name": "stdout",
     "output_type": "stream",
     "text": [
      "Loss in epoch : 0 is 236.44623708724976\n",
      "Loss in epoch : 10 is 194.8331024646759\n",
      "Loss in epoch : 20 is 167.59508979320526\n",
      "Loss in epoch : 30 is 144.87409341335297\n",
      "Loss in epoch : 40 is 125.04833954572678\n",
      "Loss in epoch : 50 is 107.64246815443039\n",
      "Loss in epoch : 60 is 92.39136058092117\n",
      "Loss in epoch : 70 is 79.1507219672203\n",
      "Loss in epoch : 80 is 67.68786174058914\n",
      "Loss in epoch : 90 is 57.84135642647743\n",
      "Loss in epoch : 100 is 49.4972825050354\n",
      "Loss in epoch : 110 is 42.47349938750267\n",
      "Loss in epoch : 120 is 36.60188786685467\n",
      "Loss in epoch : 130 is 31.70926709473133\n",
      "Loss in epoch : 140 is 27.64286206662655\n",
      "Loss in epoch : 150 is 24.25125727057457\n",
      "Loss in epoch : 160 is 21.41305112838745\n",
      "Loss in epoch : 170 is 19.027796544134617\n",
      "Loss in epoch : 180 is 17.01114085316658\n",
      "Loss in epoch : 190 is 15.297546200454235\n",
      "Loss in epoch : 200 is 13.83368019014597\n",
      "Loss in epoch : 210 is 12.575558044016361\n",
      "Loss in epoch : 220 is 11.488856919109821\n",
      "Loss in epoch : 230 is 10.544785313308239\n",
      "Loss in epoch : 240 is 9.719657465815544\n",
      "Loss in epoch : 250 is 8.993769351392984\n",
      "Loss in epoch : 260 is 8.352979891002178\n",
      "Loss in epoch : 270 is 7.783485110849142\n",
      "Loss in epoch : 280 is 7.2760409116744995\n",
      "Loss in epoch : 290 is 6.821102742105722\n"
     ]
    }
   ],
   "source": [
    "losses = []\n",
    "loss_function = nn.CrossEntropyLoss()\n",
    "model = CBOW(vocab_size, EMBEDDING_DIM)\n",
    "optimizer = optim.SGD(model.parameters(), lr = 0.001)\n",
    "\n",
    "for epoch in range(300):\n",
    "    total_loss = 0\n",
    "    for context, target in data:\n",
    "        \n",
    "        # Step 1. Prepare the inputs to be passed to the model (i.e, turn the words\n",
    "        # into integer indices and wrap them in tensors)\n",
    "        context_idxs = torch.tensor([word_to_ix[w] for w in context], dtype=torch.long)\n",
    "        \n",
    "        # Step 2. Recall that torch *accumulates* gradients. Before passing in a\n",
    "        # new instance, you need to zero out the gradients from the old\n",
    "        # instance\n",
    "        model.zero_grad()\n",
    "\n",
    "        # Step 3. Run the forward pass, getting log probabilities over next\n",
    "        # words\n",
    "        log_probs = model(context_idxs)\n",
    "\n",
    "        # Step 4. Compute your loss function. (Again, Torch wants the target\n",
    "        # word wrapped in a tensor)\n",
    "        loss = loss_function(log_probs, torch.tensor([word_to_ix[target]], dtype=torch.long))\n",
    "\n",
    "        # Step 5. Do the backward pass and update the gradient\n",
    "        loss.backward()\n",
    "        optimizer.step()\n",
    "\n",
    "        # Get the Python number from a 1-element Tensor by calling tensor.item()\n",
    "        total_loss += loss.item()\n",
    "    losses.append(total_loss)\n",
    "    if epoch % 10 == 0:\n",
    "        print('Loss in epoch : {} is {}'.format(epoch, total_loss))"
   ]
  },
  {
   "cell_type": "code",
   "execution_count": 9,
   "metadata": {},
   "outputs": [],
   "source": [
    "def get_index_of_max(input):\n",
    "    index = 0\n",
    "    for i in range(1, len(input)):\n",
    "        if input[i] > input[index]:\n",
    "            index = i \n",
    "    return index\n",
    "\n",
    "def get_max_prob_result(input, ix_to_word):\n",
    "    return ix_to_word[get_index_of_max(input)]"
   ]
  },
  {
   "cell_type": "code",
   "execution_count": 10,
   "metadata": {},
   "outputs": [
    {
     "name": "stdout",
     "output_type": "stream",
     "text": [
      "Raw text: We are about to study the idea of a computational process. Computational processes are abstract beings that inhabit computers. As they evolve, processes manipulate other abstract things called data. The evolution of a process is directed by a pattern of rules called a program. People create programs to direct processes. In effect, we conjure the spirits of the computer with our spells.\n",
      "\n",
      "Context: ['People', 'create', 'to', 'direct']\n",
      "\n",
      "Prediction: programs\n"
     ]
    }
   ],
   "source": [
    "context = ['People','create', 'to', 'direct']\n",
    "context_vector = torch.tensor([word_to_ix[w] for w in context], dtype=torch.long)\n",
    "a = model(context_vector).data.numpy()\n",
    "print('Raw text: {}\\n'.format(' '.join(raw_text)))\n",
    "print('Context: {}\\n'.format(context))\n",
    "print('Prediction: {}'.format(get_max_prob_result(a[0], ix_to_word)))\n"
   ]
  },
  {
   "cell_type": "markdown",
   "metadata": {},
   "source": [
    "**JOB DONE!**"
   ]
  },
  {
   "cell_type": "code",
   "execution_count": null,
   "metadata": {},
   "outputs": [],
   "source": []
  }
 ],
 "metadata": {
  "kernelspec": {
   "display_name": "Python 3",
   "language": "python",
   "name": "python3"
  },
  "language_info": {
   "codemirror_mode": {
    "name": "ipython",
    "version": 3
   },
   "file_extension": ".py",
   "mimetype": "text/x-python",
   "name": "python",
   "nbconvert_exporter": "python",
   "pygments_lexer": "ipython3",
   "version": "3.6.4"
  }
 },
 "nbformat": 4,
 "nbformat_minor": 2
}
