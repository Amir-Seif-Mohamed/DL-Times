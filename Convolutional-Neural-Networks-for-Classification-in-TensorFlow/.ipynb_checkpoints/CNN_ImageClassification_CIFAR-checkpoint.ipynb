{
 "cells": [
  {
   "cell_type": "code",
   "execution_count": 1,
   "metadata": {},
   "outputs": [
    {
     "name": "stderr",
     "output_type": "stream",
     "text": [
      "/home/mayank/anaconda3/lib/python3.6/site-packages/h5py/__init__.py:36: FutureWarning: Conversion of the second argument of issubdtype from `float` to `np.floating` is deprecated. In future, it will be treated as `np.float64 == np.dtype(float).type`.\n",
      "  from ._conv import register_converters as _register_converters\n"
     ]
    }
   ],
   "source": [
    "import numpy as np\n",
    "import tensorflow as tf\n",
    "\n",
    "%matplotlib inline\n",
    "import matplotlib\n",
    "import matplotlib.pyplot as plt"
   ]
  },
  {
   "cell_type": "code",
   "execution_count": 2,
   "metadata": {},
   "outputs": [
    {
     "data": {
      "text/plain": [
       "('cifar-10/cifar-10-python.tar.gz',\n",
       " <http.client.HTTPMessage at 0x7f245a49c6d8>)"
      ]
     },
     "execution_count": 2,
     "metadata": {},
     "output_type": "execute_result"
    }
   ],
   "source": [
    "from six.moves import urllib\n",
    "\n",
    "\n",
    "CIFAR_10_FILE_NAME = 'cifar-10/cifar-10-python.tar.gz'\n",
    "\n",
    "urllib.request.urlretrieve(\n",
    "    'https://www.cs.toronto.edu/~kriz/cifar-10-python.tar.gz',\n",
    "    CIFAR_10_FILE_NAME\n",
    ")"
   ]
  },
  {
   "cell_type": "code",
   "execution_count": 3,
   "metadata": {},
   "outputs": [],
   "source": [
    "import tarfile\n",
    "\n",
    "with tarfile.open('cifar-10/cifar-10-python.tar.gz') as tar:\n",
    "    tar.extractall()\n",
    "    tar.close()"
   ]
  },
  {
   "cell_type": "code",
   "execution_count": 6,
   "metadata": {},
   "outputs": [],
   "source": [
    "import pickle\n",
    "\n",
    "CIFAR10_DATASET_FOLDER = 'cifar-10-batches-py'\n",
    "\n",
    "def load_cifar10_batch(batch_id):\n",
    "    with open(CIFAR10_DATASET_FOLDER + '/data_batch_' + str(batch_id), mode = 'rb') as file:\n",
    "        batch = pickle.load(file, encoding='latin1')\n",
    "    \n",
    "    features = batch['data'].reshape((len(batch['data']), 3, 32, 32)).transpose(0, 2, 3, 1)\n",
    "    \n",
    "    labels = batch['labels']\n",
    "    \n",
    "    return features, labels"
   ]
  },
  {
   "cell_type": "code",
   "execution_count": 7,
   "metadata": {},
   "outputs": [],
   "source": [
    "features, labels = load_cifar10_batch(1)"
   ]
  },
  {
   "cell_type": "code",
   "execution_count": 8,
   "metadata": {},
   "outputs": [
    {
     "data": {
      "text/plain": [
       "10000"
      ]
     },
     "execution_count": 8,
     "metadata": {},
     "output_type": "execute_result"
    }
   ],
   "source": [
    "len(features)"
   ]
  },
  {
   "cell_type": "code",
   "execution_count": 10,
   "metadata": {},
   "outputs": [
    {
     "data": {
      "text/plain": [
       "(32, 32, 3)"
      ]
     },
     "execution_count": 10,
     "metadata": {},
     "output_type": "execute_result"
    }
   ],
   "source": [
    "features[0].shape"
   ]
  },
  {
   "cell_type": "code",
   "execution_count": 11,
   "metadata": {},
   "outputs": [
    {
     "data": {
      "text/plain": [
       "6"
      ]
     },
     "execution_count": 11,
     "metadata": {},
     "output_type": "execute_result"
    }
   ],
   "source": [
    "labels[0]"
   ]
  },
  {
   "cell_type": "code",
   "execution_count": 12,
   "metadata": {},
   "outputs": [
    {
     "data": {
      "text/plain": [
       "[6, 9, 9, 4, 1]"
      ]
     },
     "execution_count": 12,
     "metadata": {},
     "output_type": "execute_result"
    }
   ],
   "source": [
    "labels[:5]"
   ]
  },
  {
   "cell_type": "code",
   "execution_count": 13,
   "metadata": {},
   "outputs": [],
   "source": [
    "lookup = [\n",
    "    'airplane',\n",
    "    'automobile',\n",
    "    'bird',\n",
    "    'cat',\n",
    "    'deer',\n",
    "    'dog',\n",
    "    'frog',\n",
    "    'horse',\n",
    "    'ship',\n",
    "    'truck'\n",
    "]\n",
    "\n",
    "def display_features_label(features, labels, index):\n",
    "    if index >= len(features):\n",
    "        raise Error('index out of range!')\n",
    "    \n",
    "    print('Label : ', lookup[labels[index]])\n",
    "    plt.imshow(features[index])"
   ]
  },
  {
   "cell_type": "code",
   "execution_count": 21,
   "metadata": {},
   "outputs": [
    {
     "name": "stdout",
     "output_type": "stream",
     "text": [
      "Label :  ship\n"
     ]
    },
    {
     "data": {
      "image/png": "[encoded data removed]",
      "text/plain": [
       "<Figure size 432x288 with 1 Axes>"
      ]
     },
     "metadata": {},
     "output_type": "display_data"
    }
   ],
   "source": [
    "display_features_label(features, labels, 716)"
   ]
  },
  {
   "cell_type": "code",
   "execution_count": 23,
   "metadata": {},
   "outputs": [
    {
     "name": "stdout",
     "output_type": "stream",
     "text": [
      "Training Images :  8000\n",
      "Training Labels :  8000\n"
     ]
    }
   ],
   "source": [
    "train_size = int(len(features) * 0.8)\n",
    "\n",
    "training_images = features[:train_size, :, :]\n",
    "training_labels = labels[:train_size]\n",
    "\n",
    "print('Training Images : ', len(training_images))\n",
    "print('Training Labels : ', len(training_labels))"
   ]
  },
  {
   "cell_type": "code",
   "execution_count": 24,
   "metadata": {},
   "outputs": [
    {
     "name": "stdout",
     "output_type": "stream",
     "text": [
      "Test Images :  2000\n",
      "Test Labels :  2000\n"
     ]
    }
   ],
   "source": [
    "test_images = features[train_size:, :, :]\n",
    "test_labels = labels[train_size:]\n",
    "\n",
    "print('Test Images : ', len(test_images))\n",
    "print('Test Labels : ', len(test_labels))"
   ]
  },
  {
   "cell_type": "code",
   "execution_count": 25,
   "metadata": {},
   "outputs": [],
   "source": [
    "height = 32\n",
    "width = 32\n",
    "channels = 3\n",
    "n_inputs = height * width"
   ]
  },
  {
   "cell_type": "code",
   "execution_count": 26,
   "metadata": {},
   "outputs": [],
   "source": [
    "tf.reset_default_graph()"
   ]
  },
  {
   "cell_type": "code",
   "execution_count": 28,
   "metadata": {},
   "outputs": [],
   "source": [
    "X = tf.placeholder(tf.float32, shape = [None, height, width, channels], name = 'X')"
   ]
  },
  {
   "cell_type": "code",
   "execution_count": 29,
   "metadata": {},
   "outputs": [],
   "source": [
    "dropout_rate = 0.3\n",
    "\n",
    "training = tf.placeholder_with_default(False, shape = (), name = 'training')\n",
    "X_drop = tf.layers.dropout(X, dropout_rate, training=training)"
   ]
  },
  {
   "cell_type": "code",
   "execution_count": 30,
   "metadata": {},
   "outputs": [],
   "source": [
    "y = tf.placeholder(tf.int32, shape = [None], name = 'y')"
   ]
  },
  {
   "cell_type": "markdown",
   "metadata": {},
   "source": [
    "## Architecture of CNN \n",
    "\n",
    "2 Convolution layer --->> 1 Poolin layer --->> 1 Convolution layer ---> 1 Pooling layer"
   ]
  },
  {
   "cell_type": "code",
   "execution_count": 31,
   "metadata": {},
   "outputs": [],
   "source": [
    "conv1 = tf.layers.conv2d(X_drop, filters = 32,\n",
    "                        kernel_size=3,\n",
    "                        strides = 1, padding = 'SAME',\n",
    "                        activation=tf.nn.relu, name = 'conv1')"
   ]
  },
  {
   "cell_type": "code",
   "execution_count": 32,
   "metadata": {},
   "outputs": [],
   "source": [
    "conv2 = tf.layers.conv2d(X_drop, filters = 64,\n",
    "                        kernel_size=3,\n",
    "                        strides = 2, padding = 'SAME',\n",
    "                        activation=tf.nn.relu, name = 'conv2')"
   ]
  },
  {
   "cell_type": "code",
   "execution_count": 34,
   "metadata": {},
   "outputs": [
    {
     "data": {
      "text/plain": [
       "TensorShape([Dimension(None), Dimension(16), Dimension(16), Dimension(64)])"
      ]
     },
     "execution_count": 34,
     "metadata": {},
     "output_type": "execute_result"
    }
   ],
   "source": [
    "conv2.shape"
   ]
  },
  {
   "cell_type": "code",
   "execution_count": 35,
   "metadata": {},
   "outputs": [],
   "source": [
    "pool3 = tf.nn.max_pool(conv2,\n",
    "                      ksize = [1,2,2,1],\n",
    "                      strides = [1,2,2,1],\n",
    "                      padding = 'VALID')"
   ]
  },
  {
   "cell_type": "code",
   "execution_count": 36,
   "metadata": {},
   "outputs": [
    {
     "data": {
      "text/plain": [
       "TensorShape([Dimension(None), Dimension(8), Dimension(8), Dimension(64)])"
      ]
     },
     "execution_count": 36,
     "metadata": {},
     "output_type": "execute_result"
    }
   ],
   "source": [
    "pool3.shape"
   ]
  },
  {
   "cell_type": "code",
   "execution_count": 37,
   "metadata": {},
   "outputs": [],
   "source": [
    "conv4 = tf.layers.conv2d(pool3, filters = 128,\n",
    "                        kernel_size=3,\n",
    "                        strides = 3, padding = 'SAME',\n",
    "                        activation=tf.nn.relu, name = 'conv4')"
   ]
  },
  {
   "cell_type": "code",
   "execution_count": 38,
   "metadata": {},
   "outputs": [
    {
     "data": {
      "text/plain": [
       "TensorShape([Dimension(None), Dimension(3), Dimension(3), Dimension(128)])"
      ]
     },
     "execution_count": 38,
     "metadata": {},
     "output_type": "execute_result"
    }
   ],
   "source": [
    "conv4.shape"
   ]
  },
  {
   "cell_type": "code",
   "execution_count": 39,
   "metadata": {},
   "outputs": [],
   "source": [
    "pool5 = tf.nn.max_pool(conv4,\n",
    "                      ksize = [1, 2, 2, 1],\n",
    "                      strides = [1, 1, 1, 1],\n",
    "                      padding = 'VALID')"
   ]
  },
  {
   "cell_type": "code",
   "execution_count": 40,
   "metadata": {},
   "outputs": [
    {
     "data": {
      "text/plain": [
       "TensorShape([Dimension(None), Dimension(2), Dimension(2), Dimension(128)])"
      ]
     },
     "execution_count": 40,
     "metadata": {},
     "output_type": "execute_result"
    }
   ],
   "source": [
    "pool5.shape"
   ]
  },
  {
   "cell_type": "code",
   "execution_count": 41,
   "metadata": {},
   "outputs": [],
   "source": [
    "pool5_flatten = tf.reshape(pool5, shape = [-1, 128 * 2 * 2])"
   ]
  },
  {
   "cell_type": "code",
   "execution_count": 42,
   "metadata": {},
   "outputs": [],
   "source": [
    "fullyconn1 = tf.layers.dense(pool5_flatten, 128,\n",
    "                            activation = tf.nn.relu, name = 'fc1')"
   ]
  },
  {
   "cell_type": "code",
   "execution_count": 43,
   "metadata": {},
   "outputs": [],
   "source": [
    "fullyconn2 = tf.layers.dense(fullyconn1, 64,\n",
    "                            activation = tf.nn.relu, name = 'fc2')"
   ]
  },
  {
   "cell_type": "code",
   "execution_count": 44,
   "metadata": {},
   "outputs": [],
   "source": [
    "logit = tf.layers.dense(fullyconn2, 10, name = 'output')"
   ]
  },
  {
   "cell_type": "code",
   "execution_count": 45,
   "metadata": {},
   "outputs": [],
   "source": [
    "xentropy = tf.nn.sparse_softmax_cross_entropy_with_logits(logits=logit, labels=y)"
   ]
  },
  {
   "cell_type": "code",
   "execution_count": 46,
   "metadata": {},
   "outputs": [],
   "source": [
    "loss = tf.reduce_mean(xentropy)\n",
    "\n",
    "optimizer = tf.train.AdamOptimizer()\n",
    "training_op = optimizer.minimize(loss)"
   ]
  },
  {
   "cell_type": "code",
   "execution_count": 47,
   "metadata": {},
   "outputs": [],
   "source": [
    "correct = tf.nn.in_top_k(logit, y, 1)\n",
    "\n",
    "accuracy = tf.reduce_mean(tf.cast(correct, tf.float32))"
   ]
  },
  {
   "cell_type": "code",
   "execution_count": 48,
   "metadata": {},
   "outputs": [],
   "source": [
    "init = tf.global_variables_initializer()\n",
    "\n",
    "saver = tf.train.Saver()"
   ]
  },
  {
   "cell_type": "code",
   "execution_count": 49,
   "metadata": {},
   "outputs": [],
   "source": [
    "def get_next_batch(features, labels, train_size, batch_index, batch_size):\n",
    "    \n",
    "    training_images = features[:train_size, :, :]\n",
    "    training_labels = labels[:train_size]\n",
    "    \n",
    "    test_images = features[train_size:, :, :]\n",
    "    test_labels = labels[train_size:]\n",
    "    \n",
    "    start_index = batch_index + batch_size\n",
    "    end_index = start_index + batch_size\n",
    "    \n",
    "    return features[start_index:end_index, :, :], labels[start_index:end_index], test_images, test_labels"
   ]
  },
  {
   "cell_type": "code",
   "execution_count": 55,
   "metadata": {},
   "outputs": [
    {
     "name": "stdout",
     "output_type": "stream",
     "text": [
      "For epoch :  0  Train accuracy :  0.35  Test accuracy :  0.197\n",
      "For epoch :  1  Train accuracy :  0.5416667  Test accuracy :  0.216\n",
      "For epoch :  2  Train accuracy :  0.59166664  Test accuracy :  0.2165\n",
      "For epoch :  3  Train accuracy :  0.725  Test accuracy :  0.2475\n",
      "For epoch :  4  Train accuracy :  0.7083333  Test accuracy :  0.2305\n",
      "For epoch :  5  Train accuracy :  0.73333335  Test accuracy :  0.2435\n",
      "For epoch :  6  Train accuracy :  0.75  Test accuracy :  0.2345\n",
      "For epoch :  7  Train accuracy :  0.85833335  Test accuracy :  0.254\n",
      "For epoch :  8  Train accuracy :  0.7583333  Test accuracy :  0.2425\n",
      "For epoch :  9  Train accuracy :  0.775  Test accuracy :  0.2345\n",
      "For epoch :  10  Train accuracy :  0.8  Test accuracy :  0.25\n",
      "For epoch :  11  Train accuracy :  0.85833335  Test accuracy :  0.2465\n",
      "For epoch :  12  Train accuracy :  0.85833335  Test accuracy :  0.2405\n",
      "For epoch :  13  Train accuracy :  0.85833335  Test accuracy :  0.255\n",
      "For epoch :  14  Train accuracy :  0.875  Test accuracy :  0.2505\n",
      "For epoch :  15  Train accuracy :  0.8666667  Test accuracy :  0.2425\n",
      "For epoch :  16  Train accuracy :  0.7916667  Test accuracy :  0.2425\n",
      "For epoch :  17  Train accuracy :  0.90833336  Test accuracy :  0.253\n",
      "For epoch :  18  Train accuracy :  0.8666667  Test accuracy :  0.232\n",
      "For epoch :  19  Train accuracy :  0.90833336  Test accuracy :  0.251\n",
      "For epoch :  20  Train accuracy :  0.8833333  Test accuracy :  0.273\n",
      "For epoch :  21  Train accuracy :  0.90833336  Test accuracy :  0.2425\n",
      "For epoch :  22  Train accuracy :  0.84166664  Test accuracy :  0.247\n",
      "For epoch :  23  Train accuracy :  0.90833336  Test accuracy :  0.2715\n",
      "For epoch :  24  Train accuracy :  0.825  Test accuracy :  0.225\n"
     ]
    }
   ],
   "source": [
    "n_epoch = 25\n",
    "batch_size = 120\n",
    "with tf.Session() as sess:\n",
    "    init.run()\n",
    "    \n",
    "    for epoch in range(n_epoch):\n",
    "        \n",
    "        for batch_id in range(1, 6):\n",
    "            batch_index = 0\n",
    "            \n",
    "            features, labels = load_cifar10_batch(batch_id)\n",
    "            \n",
    "            train_size = int(len(features) * 0.8)\n",
    "       \n",
    "            for iteration in range(train_size // batch_size):\n",
    "                X_batch, y_batch, test_images, test_labels = get_next_batch(\n",
    "                                        features, labels, train_size, batch_index, batch_size)\n",
    "\n",
    "                batch_index += 1\n",
    "\n",
    "                sess.run(training_op, feed_dict = {X: X_batch, y: y_batch, training: True})\n",
    "\n",
    "        acc_train = accuracy.eval(feed_dict = {X: X_batch, y: y_batch})\n",
    "        acc_test = accuracy.eval(feed_dict = {X: test_images, y: test_labels})\n",
    "        \n",
    "        print('For epoch : ',epoch, ' Train accuracy : ', acc_train, ' Test accuracy : ', acc_test)\n",
    "        \n",
    "        save_path = saver.save(sess, './cnn_cifar_model/cnn_cifar_model')"
   ]
  },
  {
   "cell_type": "code",
   "execution_count": null,
   "metadata": {},
   "outputs": [],
   "source": []
  }
 ],
 "metadata": {
  "kernelspec": {
   "display_name": "Python 3",
   "language": "python",
   "name": "python3"
  },
  "language_info": {
   "codemirror_mode": {
    "name": "ipython",
    "version": 3
   },
   "file_extension": ".py",
   "mimetype": "text/x-python",
   "name": "python",
   "nbconvert_exporter": "python",
   "pygments_lexer": "ipython3",
   "version": "3.6.3"
  }
 },
 "nbformat": 4,
 "nbformat_minor": 2
}
